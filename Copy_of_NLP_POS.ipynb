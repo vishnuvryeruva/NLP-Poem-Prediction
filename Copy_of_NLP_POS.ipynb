{
  "nbformat": 4,
  "nbformat_minor": 0,
  "metadata": {
    "colab": {
      "name": "Copy of NLP POS.ipynb",
      "provenance": [],
      "collapsed_sections": [],
      "include_colab_link": true
    },
    "kernelspec": {
      "name": "python3",
      "display_name": "Python 3"
    },
    "language_info": {
      "name": "python"
    },
    "accelerator": "GPU"
  },
  "cells": [
    {
      "cell_type": "markdown",
      "metadata": {
        "id": "view-in-github",
        "colab_type": "text"
      },
      "source": [
        "<a href=\"https://colab.research.google.com/github/vishnuvryeruva/NLP-Poem-Prediction/blob/main/Copy_of_NLP_POS.ipynb\" target=\"_parent\"><img src=\"https://colab.research.google.com/assets/colab-badge.svg\" alt=\"Open In Colab\"/></a>"
      ]
    },
    {
      "cell_type": "code",
      "execution_count": null,
      "metadata": {
        "colab": {
          "base_uri": "https://localhost:8080/"
        },
        "id": "kupXyKpXRhz-",
        "outputId": "3a54ece9-14b4-44ed-9efb-81e325f9e29c"
      },
      "outputs": [
        {
          "output_type": "stream",
          "name": "stdout",
          "text": [
            "Requirement already satisfied: beautifulsoup4 in /usr/local/lib/python3.7/dist-packages (4.6.3)\n"
          ]
        }
      ],
      "source": [
        "pip install beautifulsoup4"
      ]
    },
    {
      "cell_type": "code",
      "source": [
        "!pip install -U pandas-profiling"
      ],
      "metadata": {
        "colab": {
          "base_uri": "https://localhost:8080/"
        },
        "id": "J0CKfgdkRq2a",
        "outputId": "983dfa63-a43d-4060-b05f-fdfd869aad7c"
      },
      "execution_count": null,
      "outputs": [
        {
          "output_type": "stream",
          "name": "stdout",
          "text": [
            "Requirement already satisfied: pandas-profiling in /usr/local/lib/python3.7/dist-packages (3.1.0)\n",
            "Requirement already satisfied: numpy>=1.16.0 in /usr/local/lib/python3.7/dist-packages (from pandas-profiling) (1.21.5)\n",
            "Requirement already satisfied: phik>=0.11.1 in /usr/local/lib/python3.7/dist-packages (from pandas-profiling) (0.12.2)\n",
            "Requirement already satisfied: scipy>=1.4.1 in /usr/local/lib/python3.7/dist-packages (from pandas-profiling) (1.7.3)\n",
            "Requirement already satisfied: joblib~=1.0.1 in /usr/local/lib/python3.7/dist-packages (from pandas-profiling) (1.0.1)\n",
            "Requirement already satisfied: matplotlib>=3.2.0 in /usr/local/lib/python3.7/dist-packages (from pandas-profiling) (3.2.2)\n",
            "Requirement already satisfied: seaborn>=0.10.1 in /usr/local/lib/python3.7/dist-packages (from pandas-profiling) (0.11.2)\n",
            "Requirement already satisfied: markupsafe~=2.0.1 in /usr/local/lib/python3.7/dist-packages (from pandas-profiling) (2.0.1)\n",
            "Requirement already satisfied: PyYAML>=5.0.0 in /usr/local/lib/python3.7/dist-packages (from pandas-profiling) (6.0)\n",
            "Requirement already satisfied: tangled-up-in-unicode==0.1.0 in /usr/local/lib/python3.7/dist-packages (from pandas-profiling) (0.1.0)\n",
            "Requirement already satisfied: pandas!=1.0.0,!=1.0.1,!=1.0.2,!=1.1.0,>=0.25.3 in /usr/local/lib/python3.7/dist-packages (from pandas-profiling) (1.3.5)\n",
            "Requirement already satisfied: htmlmin>=0.1.12 in /usr/local/lib/python3.7/dist-packages (from pandas-profiling) (0.1.12)\n",
            "Requirement already satisfied: multimethod>=1.4 in /usr/local/lib/python3.7/dist-packages (from pandas-profiling) (1.8)\n",
            "Requirement already satisfied: requests>=2.24.0 in /usr/local/lib/python3.7/dist-packages (from pandas-profiling) (2.27.1)\n",
            "Requirement already satisfied: missingno>=0.4.2 in /usr/local/lib/python3.7/dist-packages (from pandas-profiling) (0.5.1)\n",
            "Requirement already satisfied: visions[type_image_path]==0.7.4 in /usr/local/lib/python3.7/dist-packages (from pandas-profiling) (0.7.4)\n",
            "Requirement already satisfied: jinja2>=2.11.1 in /usr/local/lib/python3.7/dist-packages (from pandas-profiling) (2.11.3)\n",
            "Requirement already satisfied: pydantic>=1.8.1 in /usr/local/lib/python3.7/dist-packages (from pandas-profiling) (1.9.0)\n",
            "Requirement already satisfied: tqdm>=4.48.2 in /usr/local/lib/python3.7/dist-packages (from pandas-profiling) (4.63.0)\n",
            "Requirement already satisfied: attrs>=19.3.0 in /usr/local/lib/python3.7/dist-packages (from visions[type_image_path]==0.7.4->pandas-profiling) (21.4.0)\n",
            "Requirement already satisfied: networkx>=2.4 in /usr/local/lib/python3.7/dist-packages (from visions[type_image_path]==0.7.4->pandas-profiling) (2.6.3)\n",
            "Requirement already satisfied: imagehash in /usr/local/lib/python3.7/dist-packages (from visions[type_image_path]==0.7.4->pandas-profiling) (4.2.1)\n",
            "Requirement already satisfied: Pillow in /usr/local/lib/python3.7/dist-packages (from visions[type_image_path]==0.7.4->pandas-profiling) (7.1.2)\n",
            "Requirement already satisfied: kiwisolver>=1.0.1 in /usr/local/lib/python3.7/dist-packages (from matplotlib>=3.2.0->pandas-profiling) (1.4.0)\n",
            "Requirement already satisfied: cycler>=0.10 in /usr/local/lib/python3.7/dist-packages (from matplotlib>=3.2.0->pandas-profiling) (0.11.0)\n",
            "Requirement already satisfied: pyparsing!=2.0.4,!=2.1.2,!=2.1.6,>=2.0.1 in /usr/local/lib/python3.7/dist-packages (from matplotlib>=3.2.0->pandas-profiling) (3.0.7)\n",
            "Requirement already satisfied: python-dateutil>=2.1 in /usr/local/lib/python3.7/dist-packages (from matplotlib>=3.2.0->pandas-profiling) (2.8.2)\n",
            "Requirement already satisfied: typing-extensions in /usr/local/lib/python3.7/dist-packages (from kiwisolver>=1.0.1->matplotlib>=3.2.0->pandas-profiling) (3.10.0.2)\n",
            "Requirement already satisfied: pytz>=2017.3 in /usr/local/lib/python3.7/dist-packages (from pandas!=1.0.0,!=1.0.1,!=1.0.2,!=1.1.0,>=0.25.3->pandas-profiling) (2018.9)\n",
            "Requirement already satisfied: six>=1.5 in /usr/local/lib/python3.7/dist-packages (from python-dateutil>=2.1->matplotlib>=3.2.0->pandas-profiling) (1.15.0)\n",
            "Requirement already satisfied: certifi>=2017.4.17 in /usr/local/lib/python3.7/dist-packages (from requests>=2.24.0->pandas-profiling) (2021.10.8)\n",
            "Requirement already satisfied: idna<4,>=2.5 in /usr/local/lib/python3.7/dist-packages (from requests>=2.24.0->pandas-profiling) (2.10)\n",
            "Requirement already satisfied: urllib3<1.27,>=1.21.1 in /usr/local/lib/python3.7/dist-packages (from requests>=2.24.0->pandas-profiling) (1.24.3)\n",
            "Requirement already satisfied: charset-normalizer~=2.0.0 in /usr/local/lib/python3.7/dist-packages (from requests>=2.24.0->pandas-profiling) (2.0.12)\n",
            "Requirement already satisfied: PyWavelets in /usr/local/lib/python3.7/dist-packages (from imagehash->visions[type_image_path]==0.7.4->pandas-profiling) (1.3.0)\n"
          ]
        }
      ]
    },
    {
      "cell_type": "code",
      "source": [
        "!pip install bert-embedding\n",
        "!pip install sentence-transformers"
      ],
      "metadata": {
        "colab": {
          "base_uri": "https://localhost:8080/",
          "height": 1000
        },
        "id": "h_rVuEa8QPv0",
        "outputId": "25badd71-c364-4290-8424-3c38d2278b1c"
      },
      "execution_count": null,
      "outputs": [
        {
          "output_type": "stream",
          "name": "stdout",
          "text": [
            "Requirement already satisfied: bert-embedding in /usr/local/lib/python3.7/dist-packages (1.0.1)\n",
            "Requirement already satisfied: typing==3.6.6 in /usr/local/lib/python3.7/dist-packages (from bert-embedding) (3.6.6)\n",
            "Requirement already satisfied: gluonnlp==0.6.0 in /usr/local/lib/python3.7/dist-packages (from bert-embedding) (0.6.0)\n",
            "Collecting numpy==1.14.6\n",
            "  Using cached numpy-1.14.6-cp37-cp37m-manylinux1_x86_64.whl (13.8 MB)\n",
            "Requirement already satisfied: mxnet==1.4.0 in /usr/local/lib/python3.7/dist-packages (from bert-embedding) (1.4.0)\n",
            "Requirement already satisfied: graphviz<0.9.0,>=0.8.1 in /usr/local/lib/python3.7/dist-packages (from mxnet==1.4.0->bert-embedding) (0.8.4)\n",
            "Requirement already satisfied: requests>=2.20.0 in /usr/local/lib/python3.7/dist-packages (from mxnet==1.4.0->bert-embedding) (2.27.1)\n",
            "Requirement already satisfied: certifi>=2017.4.17 in /usr/local/lib/python3.7/dist-packages (from requests>=2.20.0->mxnet==1.4.0->bert-embedding) (2021.10.8)\n",
            "Requirement already satisfied: idna<4,>=2.5 in /usr/local/lib/python3.7/dist-packages (from requests>=2.20.0->mxnet==1.4.0->bert-embedding) (2.10)\n",
            "Requirement already satisfied: urllib3<1.27,>=1.21.1 in /usr/local/lib/python3.7/dist-packages (from requests>=2.20.0->mxnet==1.4.0->bert-embedding) (1.24.3)\n",
            "Requirement already satisfied: charset-normalizer~=2.0.0 in /usr/local/lib/python3.7/dist-packages (from requests>=2.20.0->mxnet==1.4.0->bert-embedding) (2.0.12)\n",
            "Installing collected packages: numpy\n",
            "  Attempting uninstall: numpy\n",
            "    Found existing installation: numpy 1.21.5\n",
            "    Uninstalling numpy-1.21.5:\n",
            "      Successfully uninstalled numpy-1.21.5\n",
            "\u001b[31mERROR: pip's dependency resolver does not currently take into account all the packages that are installed. This behaviour is the source of the following dependency conflicts.\n",
            "tensorflow 2.8.0 requires tf-estimator-nightly==2.8.0.dev2021122109, which is not installed.\n",
            "yellowbrick 1.4 requires numpy>=1.16.0, but you have numpy 1.14.6 which is incompatible.\n",
            "xarray 0.18.2 requires numpy>=1.17, but you have numpy 1.14.6 which is incompatible.\n",
            "transformers 4.18.0 requires numpy>=1.17, but you have numpy 1.14.6 which is incompatible.\n",
            "tifffile 2021.11.2 requires numpy>=1.15.1, but you have numpy 1.14.6 which is incompatible.\n",
            "tensorflow 2.8.0 requires numpy>=1.20, but you have numpy 1.14.6 which is incompatible.\n",
            "tables 3.7.0 requires numpy>=1.19.0, but you have numpy 1.14.6 which is incompatible.\n",
            "spacy 2.2.4 requires numpy>=1.15.0, but you have numpy 1.14.6 which is incompatible.\n",
            "seaborn 0.11.2 requires numpy>=1.15, but you have numpy 1.14.6 which is incompatible.\n",
            "scipy 1.7.3 requires numpy<1.23.0,>=1.16.5, but you have numpy 1.14.6 which is incompatible.\n",
            "scikit-image 0.18.3 requires numpy>=1.16.5, but you have numpy 1.14.6 which is incompatible.\n",
            "pywavelets 1.3.0 requires numpy>=1.17.3, but you have numpy 1.14.6 which is incompatible.\n",
            "pymc3 3.11.4 requires numpy>=1.15.0, but you have numpy 1.14.6 which is incompatible.\n",
            "pyerfa 2.0.0.1 requires numpy>=1.17, but you have numpy 1.14.6 which is incompatible.\n",
            "pyarrow 6.0.1 requires numpy>=1.16.6, but you have numpy 1.14.6 which is incompatible.\n",
            "plotnine 0.6.0 requires numpy>=1.16.0, but you have numpy 1.14.6 which is incompatible.\n",
            "phik 0.12.2 requires numpy>=1.18.0, but you have numpy 1.14.6 which is incompatible.\n",
            "pandas 1.3.5 requires numpy>=1.17.3; platform_machine != \"aarch64\" and platform_machine != \"arm64\" and python_version < \"3.10\", but you have numpy 1.14.6 which is incompatible.\n",
            "pandas-profiling 3.1.0 requires numpy>=1.16.0, but you have numpy 1.14.6 which is incompatible.\n",
            "numba 0.51.2 requires numpy>=1.15, but you have numpy 1.14.6 which is incompatible.\n",
            "librosa 0.8.1 requires numpy>=1.15.0, but you have numpy 1.14.6 which is incompatible.\n",
            "kapre 0.3.7 requires numpy>=1.18.5, but you have numpy 1.14.6 which is incompatible.\n",
            "jaxlib 0.3.2+cuda11.cudnn805 requires numpy>=1.19, but you have numpy 1.14.6 which is incompatible.\n",
            "jax 0.3.4 requires numpy>=1.19, but you have numpy 1.14.6 which is incompatible.\n",
            "imgaug 0.2.9 requires numpy>=1.15.0, but you have numpy 1.14.6 which is incompatible.\n",
            "google-colab 1.0.0 requires requests~=2.23.0, but you have requests 2.27.1 which is incompatible.\n",
            "fbprophet 0.7.1 requires numpy>=1.15.4, but you have numpy 1.14.6 which is incompatible.\n",
            "fastai 1.0.61 requires numpy>=1.15, but you have numpy 1.14.6 which is incompatible.\n",
            "datascience 0.10.6 requires folium==0.2.1, but you have folium 0.8.3 which is incompatible.\n",
            "cvxpy 1.0.31 requires numpy>=1.15, but you have numpy 1.14.6 which is incompatible.\n",
            "cupy-cuda111 9.4.0 requires numpy<1.24,>=1.17, but you have numpy 1.14.6 which is incompatible.\n",
            "blis 0.4.1 requires numpy>=1.15.0, but you have numpy 1.14.6 which is incompatible.\n",
            "astropy 4.3.1 requires numpy>=1.17, but you have numpy 1.14.6 which is incompatible.\n",
            "albumentations 0.1.12 requires imgaug<0.2.7,>=0.2.5, but you have imgaug 0.2.9 which is incompatible.\u001b[0m\n",
            "Successfully installed numpy-1.14.6\n"
          ]
        },
        {
          "output_type": "display_data",
          "data": {
            "application/vnd.colab-display-data+json": {
              "pip_warning": {
                "packages": [
                  "numpy"
                ]
              }
            }
          },
          "metadata": {}
        },
        {
          "output_type": "stream",
          "name": "stdout",
          "text": [
            "Requirement already satisfied: sentence-transformers in /usr/local/lib/python3.7/dist-packages (2.2.0)\n",
            "Requirement already satisfied: torchvision in /usr/local/lib/python3.7/dist-packages (from sentence-transformers) (0.11.1+cu111)\n",
            "Requirement already satisfied: numpy in /usr/local/lib/python3.7/dist-packages (from sentence-transformers) (1.14.6)\n",
            "Requirement already satisfied: nltk in /usr/local/lib/python3.7/dist-packages (from sentence-transformers) (3.2.5)\n",
            "Requirement already satisfied: sentencepiece in /usr/local/lib/python3.7/dist-packages (from sentence-transformers) (0.1.96)\n",
            "Requirement already satisfied: scipy in /usr/local/lib/python3.7/dist-packages (from sentence-transformers) (1.7.3)\n",
            "Requirement already satisfied: torch>=1.6.0 in /usr/local/lib/python3.7/dist-packages (from sentence-transformers) (1.10.0+cu111)\n",
            "Requirement already satisfied: huggingface-hub in /usr/local/lib/python3.7/dist-packages (from sentence-transformers) (0.5.1)\n",
            "Requirement already satisfied: scikit-learn in /usr/local/lib/python3.7/dist-packages (from sentence-transformers) (1.0.2)\n",
            "Requirement already satisfied: tqdm in /usr/local/lib/python3.7/dist-packages (from sentence-transformers) (4.63.0)\n",
            "Requirement already satisfied: transformers<5.0.0,>=4.6.0 in /usr/local/lib/python3.7/dist-packages (from sentence-transformers) (4.18.0)\n",
            "Requirement already satisfied: typing-extensions in /usr/local/lib/python3.7/dist-packages (from torch>=1.6.0->sentence-transformers) (3.10.0.2)\n",
            "Requirement already satisfied: packaging>=20.0 in /usr/local/lib/python3.7/dist-packages (from transformers<5.0.0,>=4.6.0->sentence-transformers) (21.3)\n",
            "Requirement already satisfied: regex!=2019.12.17 in /usr/local/lib/python3.7/dist-packages (from transformers<5.0.0,>=4.6.0->sentence-transformers) (2019.12.20)\n",
            "Requirement already satisfied: requests in /usr/local/lib/python3.7/dist-packages (from transformers<5.0.0,>=4.6.0->sentence-transformers) (2.27.1)\n",
            "Requirement already satisfied: pyyaml>=5.1 in /usr/local/lib/python3.7/dist-packages (from transformers<5.0.0,>=4.6.0->sentence-transformers) (6.0)\n",
            "Requirement already satisfied: sacremoses in /usr/local/lib/python3.7/dist-packages (from transformers<5.0.0,>=4.6.0->sentence-transformers) (0.0.49)\n",
            "Requirement already satisfied: tokenizers!=0.11.3,<0.13,>=0.11.1 in /usr/local/lib/python3.7/dist-packages (from transformers<5.0.0,>=4.6.0->sentence-transformers) (0.11.6)\n",
            "Requirement already satisfied: importlib-metadata in /usr/local/lib/python3.7/dist-packages (from transformers<5.0.0,>=4.6.0->sentence-transformers) (4.11.3)\n",
            "Collecting numpy\n",
            "  Using cached numpy-1.21.5-cp37-cp37m-manylinux_2_12_x86_64.manylinux2010_x86_64.whl (15.7 MB)\n",
            "Requirement already satisfied: filelock in /usr/local/lib/python3.7/dist-packages (from transformers<5.0.0,>=4.6.0->sentence-transformers) (3.6.0)\n",
            "Requirement already satisfied: pyparsing!=3.0.5,>=2.0.2 in /usr/local/lib/python3.7/dist-packages (from packaging>=20.0->transformers<5.0.0,>=4.6.0->sentence-transformers) (3.0.7)\n",
            "Requirement already satisfied: zipp>=0.5 in /usr/local/lib/python3.7/dist-packages (from importlib-metadata->transformers<5.0.0,>=4.6.0->sentence-transformers) (3.7.0)\n",
            "Requirement already satisfied: six in /usr/local/lib/python3.7/dist-packages (from nltk->sentence-transformers) (1.15.0)\n",
            "Requirement already satisfied: urllib3<1.27,>=1.21.1 in /usr/local/lib/python3.7/dist-packages (from requests->transformers<5.0.0,>=4.6.0->sentence-transformers) (1.24.3)\n",
            "Requirement already satisfied: charset-normalizer~=2.0.0 in /usr/local/lib/python3.7/dist-packages (from requests->transformers<5.0.0,>=4.6.0->sentence-transformers) (2.0.12)\n",
            "Requirement already satisfied: certifi>=2017.4.17 in /usr/local/lib/python3.7/dist-packages (from requests->transformers<5.0.0,>=4.6.0->sentence-transformers) (2021.10.8)\n",
            "Requirement already satisfied: idna<4,>=2.5 in /usr/local/lib/python3.7/dist-packages (from requests->transformers<5.0.0,>=4.6.0->sentence-transformers) (2.10)\n",
            "Requirement already satisfied: joblib in /usr/local/lib/python3.7/dist-packages (from sacremoses->transformers<5.0.0,>=4.6.0->sentence-transformers) (1.0.1)\n",
            "Requirement already satisfied: click in /usr/local/lib/python3.7/dist-packages (from sacremoses->transformers<5.0.0,>=4.6.0->sentence-transformers) (7.1.2)\n",
            "Requirement already satisfied: threadpoolctl>=2.0.0 in /usr/local/lib/python3.7/dist-packages (from scikit-learn->sentence-transformers) (3.1.0)\n",
            "Requirement already satisfied: pillow!=8.3.0,>=5.3.0 in /usr/local/lib/python3.7/dist-packages (from torchvision->sentence-transformers) (7.1.2)\n",
            "Installing collected packages: numpy\n",
            "  Attempting uninstall: numpy\n",
            "    Found existing installation: numpy 1.14.6\n",
            "    Uninstalling numpy-1.14.6:\n",
            "      Successfully uninstalled numpy-1.14.6\n",
            "\u001b[31mERROR: pip's dependency resolver does not currently take into account all the packages that are installed. This behaviour is the source of the following dependency conflicts.\n",
            "tensorflow 2.8.0 requires tf-estimator-nightly==2.8.0.dev2021122109, which is not installed.\n",
            "mxnet 1.4.0 requires numpy<1.15.0,>=1.8.2, but you have numpy 1.21.5 which is incompatible.\n",
            "google-colab 1.0.0 requires requests~=2.23.0, but you have requests 2.27.1 which is incompatible.\n",
            "datascience 0.10.6 requires folium==0.2.1, but you have folium 0.8.3 which is incompatible.\n",
            "bert-embedding 1.0.1 requires numpy==1.14.6, but you have numpy 1.21.5 which is incompatible.\n",
            "albumentations 0.1.12 requires imgaug<0.2.7,>=0.2.5, but you have imgaug 0.2.9 which is incompatible.\u001b[0m\n",
            "Successfully installed numpy-1.21.5\n"
          ]
        },
        {
          "output_type": "display_data",
          "data": {
            "application/vnd.colab-display-data+json": {
              "pip_warning": {
                "packages": [
                  "numpy"
                ]
              }
            }
          },
          "metadata": {}
        }
      ]
    },
    {
      "cell_type": "code",
      "source": [
        "import urllib.request\n",
        "import numpy as np\n",
        "import pandas as pd\n",
        "import bs4 as bs\n",
        "import re\n",
        "import json\n",
        "import nltk\n",
        "from nltk.tokenize import word_tokenize\n",
        "from nltk.corpus import wordnet\n",
        "from nltk.corpus import stopwords"
      ],
      "metadata": {
        "id": "S0y5crYtRx-H"
      },
      "execution_count": null,
      "outputs": []
    },
    {
      "cell_type": "code",
      "source": [
        "nltk.download('punkt')\n",
        "nltk.download('averaged_perceptron_tagger')\n",
        "nltk.download('stopwords')\n",
        "nltk.download('wordnet')"
      ],
      "metadata": {
        "colab": {
          "base_uri": "https://localhost:8080/"
        },
        "id": "KmtDiZDlOrVU",
        "outputId": "6b6ad67f-bbc1-4b89-ad00-44c17afa19e1"
      },
      "execution_count": null,
      "outputs": [
        {
          "output_type": "stream",
          "name": "stdout",
          "text": [
            "[nltk_data] Downloading package punkt to /root/nltk_data...\n",
            "[nltk_data]   Package punkt is already up-to-date!\n",
            "[nltk_data] Downloading package averaged_perceptron_tagger to\n",
            "[nltk_data]     /root/nltk_data...\n",
            "[nltk_data]   Package averaged_perceptron_tagger is already up-to-\n",
            "[nltk_data]       date!\n",
            "[nltk_data] Downloading package stopwords to /root/nltk_data...\n",
            "[nltk_data]   Package stopwords is already up-to-date!\n",
            "[nltk_data] Downloading package wordnet to /root/nltk_data...\n",
            "[nltk_data]   Package wordnet is already up-to-date!\n"
          ]
        },
        {
          "output_type": "execute_result",
          "data": {
            "text/plain": [
              "True"
            ]
          },
          "metadata": {},
          "execution_count": 187
        }
      ]
    },
    {
      "cell_type": "code",
      "source": [
        "def beautify_txt(text):\n",
        "    # final_data = (((text).replace(u'\\xa0', u' ')).replace(r'\\r',u'\\n').replace(r'\\n', ' '))\n",
        "    final_data = (((text).replace(u'\\xa0', u' ')).replace(r'\\r',u'\\n'))\n",
        "\n",
        "    return final_data\n",
        "\n",
        "Mac_Crary=[\"https://allpoetry.com/poem/16465438-Hammerhead--by-Mac-Crary\",\n",
        "\"https://allpoetry.com/poem/16460673-Alone--Ashamed-and-Afraid-by-Mac-Crary\",\n",
        "\"https://allpoetry.com/poem/16459787-Civil-War-Mother-by-Mac-Crary\",\n",
        "\"https://allpoetry.com/poem/16457633-American-Cities-by-Mac-Crary\",\n",
        "\"https://allpoetry.com/poem/16454355-Media-Pimps-by-Mac-Crary\",\n",
        "\"https://allpoetry.com/poem/16441224-Russia-Cries--Too-by-Mac-Crary\",\n",
        "\"https://allpoetry.com/poem/16469055-Celestial-Bodies--by-Mac-Crary\",\n",
        "\"https://allpoetry.com/poem/16432519-In-the-Era-of-Trump-and-Pope-Francis-by-Mac-Crary\",\n",
        "\"https://allpoetry.com/poem/16442461-Old-Oligarchs-by-Mac-Crary\",\n",
        "\"https://allpoetry.com/poem/16384954-The-Fourth-Wall-by-Mac-Crary\"]\n",
        "\n",
        "Judith_Wright=[\n",
        "\"https://allpoetry.com/The-Old-Prison\",\n",
        "\"https://allpoetry.com/poem/8521443-Legend-by-Judith-Wright\",\n",
        "\"https://allpoetry.com/Trapped-Dingo\",\n",
        "\"https://allpoetry.com/The-Surfer\",\n",
        "\"https://allpoetry.com/poem/8521455-Woman-To-Man-by-Judith-Wright\",\n",
        "\"https://allpoetry.com/South-Of-My-Days\",\n",
        "\"https://allpoetry.com/Request-To-A-Year\",\n",
        "\"https://allpoetry.com/poem/8521423-Late-Spring-by-Judith-Wright\",\n",
        "\"https://allpoetry.com/poem/8521415-To-a-Child-by-Judith-Wright\",\n",
        "\"https://allpoetry.com/Train-Journey\"]"
      ],
      "metadata": {
        "id": "7zML41NPkU5-"
      },
      "execution_count": null,
      "outputs": []
    },
    {
      "cell_type": "code",
      "source": [
        ""
      ],
      "metadata": {
        "id": "7qhVI8Q5kJZT"
      },
      "execution_count": null,
      "outputs": []
    },
    {
      "cell_type": "code",
      "source": [
        "poems_results_MC=[]\n",
        "def scrapeMCPoetsPoems():\n",
        "  for url in Mac_Crary:\n",
        "    print(url)\n",
        "    header = {'User-Agent':'Mozilla/5.0'}\n",
        "    requests = urllib.request.Request(url,headers=header)\n",
        "    requestread = urllib.request.urlopen(requests).read()\n",
        "    soup = bs.BeautifulSoup(requestread,'html.parser')\n",
        "    \n",
        "    poem_content = (beautify_txt(soup.find_all('div', class_=\"poem_body\")[0].text))\n",
        "   \n",
        "    poem_title = soup.find_all('h1')[0].text\n",
        "    poems_results_MC.append([poem_title, poem_content])\n",
        "  return poems_results_MC"
      ],
      "metadata": {
        "id": "7MAeJmm7GjIv"
      },
      "execution_count": null,
      "outputs": []
    },
    {
      "cell_type": "code",
      "source": [
        "poems_results_JW=[]\n",
        "def scrapeJWPoetsPoems():\n",
        "  for url in Judith_Wright:\n",
        "    header = {'User-Agent':'Mozilla/5.0'}\n",
        "    requests = urllib.request.Request(url,headers=header)\n",
        "    requestread = urllib.request.urlopen(requests).read()\n",
        "    soup = bs.BeautifulSoup(requestread,'html.parser')\n",
        "\n",
        "    poem_content = (beautify_txt(soup.find_all('div', class_=\"poem_body\")[0].text))\n",
        "   \n",
        "    poem_title = soup.find_all('h1')[0].text\n",
        "    poems_results_JW.append([poem_title, poem_content])\n",
        "  return poems_results_JW"
      ],
      "metadata": {
        "id": "-NYzAwuCGQSK"
      },
      "execution_count": null,
      "outputs": []
    },
    {
      "cell_type": "code",
      "source": [
        "scrapeJWPoetsPoems = scrapeJWPoetsPoems()"
      ],
      "metadata": {
        "id": "LXR7NMSAITo4"
      },
      "execution_count": null,
      "outputs": []
    },
    {
      "cell_type": "code",
      "source": [
        "JW_DF = pd.DataFrame(scrapeJWPoetsPoems)\n",
        "JW_DF.columns = ['Title', 'Poem']"
      ],
      "metadata": {
        "id": "__ZbL5ZkIfJY"
      },
      "execution_count": null,
      "outputs": []
    },
    {
      "cell_type": "code",
      "source": [
        "JW_DF"
      ],
      "metadata": {
        "colab": {
          "base_uri": "https://localhost:8080/",
          "height": 363
        },
        "id": "NYsQR665Ie1U",
        "outputId": "bdf1f80f-209d-4863-feac-646fe3dbe140"
      },
      "execution_count": null,
      "outputs": [
        {
          "output_type": "execute_result",
          "data": {
            "text/plain": [
              "               Title                                               Poem\n",
              "0     The Old Prison  The rows of cells are unroofed,\\na flute for t...\n",
              "1             Legend  The blacksmith's boy went out with a rifle\\nan...\n",
              "2      Trapped Dingo  So here, twisted in steel, and spoiled with re...\n",
              "3         The Surfer  He thrust his joy against the weight of the se...\n",
              "4       Woman To Man  The eyeless labourer in the night,\\nthe selfle...\n",
              "5   South Of My Days  South of my days' circle, part of my blood's c...\n",
              "6  Request To A Year  If the year is meditating a suitable gift,I sh...\n",
              "7        Late Spring  The moon drained white by day \\n\\nlifts from t...\n",
              "8         To a Child  When I was a child I sawa burning bird in a tr...\n",
              "9      Train Journey  Glassed with cold sleep and dazzled by the moo..."
            ],
            "text/html": [
              "\n",
              "  <div id=\"df-891c3947-d869-44fa-a657-c5bacc51f5f5\">\n",
              "    <div class=\"colab-df-container\">\n",
              "      <div>\n",
              "<style scoped>\n",
              "    .dataframe tbody tr th:only-of-type {\n",
              "        vertical-align: middle;\n",
              "    }\n",
              "\n",
              "    .dataframe tbody tr th {\n",
              "        vertical-align: top;\n",
              "    }\n",
              "\n",
              "    .dataframe thead th {\n",
              "        text-align: right;\n",
              "    }\n",
              "</style>\n",
              "<table border=\"1\" class=\"dataframe\">\n",
              "  <thead>\n",
              "    <tr style=\"text-align: right;\">\n",
              "      <th></th>\n",
              "      <th>Title</th>\n",
              "      <th>Poem</th>\n",
              "    </tr>\n",
              "  </thead>\n",
              "  <tbody>\n",
              "    <tr>\n",
              "      <th>0</th>\n",
              "      <td>The Old Prison</td>\n",
              "      <td>The rows of cells are unroofed,\\na flute for t...</td>\n",
              "    </tr>\n",
              "    <tr>\n",
              "      <th>1</th>\n",
              "      <td>Legend</td>\n",
              "      <td>The blacksmith's boy went out with a rifle\\nan...</td>\n",
              "    </tr>\n",
              "    <tr>\n",
              "      <th>2</th>\n",
              "      <td>Trapped Dingo</td>\n",
              "      <td>So here, twisted in steel, and spoiled with re...</td>\n",
              "    </tr>\n",
              "    <tr>\n",
              "      <th>3</th>\n",
              "      <td>The Surfer</td>\n",
              "      <td>He thrust his joy against the weight of the se...</td>\n",
              "    </tr>\n",
              "    <tr>\n",
              "      <th>4</th>\n",
              "      <td>Woman To Man</td>\n",
              "      <td>The eyeless labourer in the night,\\nthe selfle...</td>\n",
              "    </tr>\n",
              "    <tr>\n",
              "      <th>5</th>\n",
              "      <td>South Of My Days</td>\n",
              "      <td>South of my days' circle, part of my blood's c...</td>\n",
              "    </tr>\n",
              "    <tr>\n",
              "      <th>6</th>\n",
              "      <td>Request To A Year</td>\n",
              "      <td>If the year is meditating a suitable gift,I sh...</td>\n",
              "    </tr>\n",
              "    <tr>\n",
              "      <th>7</th>\n",
              "      <td>Late Spring</td>\n",
              "      <td>The moon drained white by day \\n\\nlifts from t...</td>\n",
              "    </tr>\n",
              "    <tr>\n",
              "      <th>8</th>\n",
              "      <td>To a Child</td>\n",
              "      <td>When I was a child I sawa burning bird in a tr...</td>\n",
              "    </tr>\n",
              "    <tr>\n",
              "      <th>9</th>\n",
              "      <td>Train Journey</td>\n",
              "      <td>Glassed with cold sleep and dazzled by the moo...</td>\n",
              "    </tr>\n",
              "  </tbody>\n",
              "</table>\n",
              "</div>\n",
              "      <button class=\"colab-df-convert\" onclick=\"convertToInteractive('df-891c3947-d869-44fa-a657-c5bacc51f5f5')\"\n",
              "              title=\"Convert this dataframe to an interactive table.\"\n",
              "              style=\"display:none;\">\n",
              "        \n",
              "  <svg xmlns=\"http://www.w3.org/2000/svg\" height=\"24px\"viewBox=\"0 0 24 24\"\n",
              "       width=\"24px\">\n",
              "    <path d=\"M0 0h24v24H0V0z\" fill=\"none\"/>\n",
              "    <path d=\"M18.56 5.44l.94 2.06.94-2.06 2.06-.94-2.06-.94-.94-2.06-.94 2.06-2.06.94zm-11 1L8.5 8.5l.94-2.06 2.06-.94-2.06-.94L8.5 2.5l-.94 2.06-2.06.94zm10 10l.94 2.06.94-2.06 2.06-.94-2.06-.94-.94-2.06-.94 2.06-2.06.94z\"/><path d=\"M17.41 7.96l-1.37-1.37c-.4-.4-.92-.59-1.43-.59-.52 0-1.04.2-1.43.59L10.3 9.45l-7.72 7.72c-.78.78-.78 2.05 0 2.83L4 21.41c.39.39.9.59 1.41.59.51 0 1.02-.2 1.41-.59l7.78-7.78 2.81-2.81c.8-.78.8-2.07 0-2.86zM5.41 20L4 18.59l7.72-7.72 1.47 1.35L5.41 20z\"/>\n",
              "  </svg>\n",
              "      </button>\n",
              "      \n",
              "  <style>\n",
              "    .colab-df-container {\n",
              "      display:flex;\n",
              "      flex-wrap:wrap;\n",
              "      gap: 12px;\n",
              "    }\n",
              "\n",
              "    .colab-df-convert {\n",
              "      background-color: #E8F0FE;\n",
              "      border: none;\n",
              "      border-radius: 50%;\n",
              "      cursor: pointer;\n",
              "      display: none;\n",
              "      fill: #1967D2;\n",
              "      height: 32px;\n",
              "      padding: 0 0 0 0;\n",
              "      width: 32px;\n",
              "    }\n",
              "\n",
              "    .colab-df-convert:hover {\n",
              "      background-color: #E2EBFA;\n",
              "      box-shadow: 0px 1px 2px rgba(60, 64, 67, 0.3), 0px 1px 3px 1px rgba(60, 64, 67, 0.15);\n",
              "      fill: #174EA6;\n",
              "    }\n",
              "\n",
              "    [theme=dark] .colab-df-convert {\n",
              "      background-color: #3B4455;\n",
              "      fill: #D2E3FC;\n",
              "    }\n",
              "\n",
              "    [theme=dark] .colab-df-convert:hover {\n",
              "      background-color: #434B5C;\n",
              "      box-shadow: 0px 1px 3px 1px rgba(0, 0, 0, 0.15);\n",
              "      filter: drop-shadow(0px 1px 2px rgba(0, 0, 0, 0.3));\n",
              "      fill: #FFFFFF;\n",
              "    }\n",
              "  </style>\n",
              "\n",
              "      <script>\n",
              "        const buttonEl =\n",
              "          document.querySelector('#df-891c3947-d869-44fa-a657-c5bacc51f5f5 button.colab-df-convert');\n",
              "        buttonEl.style.display =\n",
              "          google.colab.kernel.accessAllowed ? 'block' : 'none';\n",
              "\n",
              "        async function convertToInteractive(key) {\n",
              "          const element = document.querySelector('#df-891c3947-d869-44fa-a657-c5bacc51f5f5');\n",
              "          const dataTable =\n",
              "            await google.colab.kernel.invokeFunction('convertToInteractive',\n",
              "                                                     [key], {});\n",
              "          if (!dataTable) return;\n",
              "\n",
              "          const docLinkHtml = 'Like what you see? Visit the ' +\n",
              "            '<a target=\"_blank\" href=https://colab.research.google.com/notebooks/data_table.ipynb>data table notebook</a>'\n",
              "            + ' to learn more about interactive tables.';\n",
              "          element.innerHTML = '';\n",
              "          dataTable['output_type'] = 'display_data';\n",
              "          await google.colab.output.renderOutput(dataTable, element);\n",
              "          const docLink = document.createElement('div');\n",
              "          docLink.innerHTML = docLinkHtml;\n",
              "          element.appendChild(docLink);\n",
              "        }\n",
              "      </script>\n",
              "    </div>\n",
              "  </div>\n",
              "  "
            ]
          },
          "metadata": {},
          "execution_count": 193
        }
      ]
    },
    {
      "cell_type": "code",
      "source": [
        "JW_DF['Poem'][0]"
      ],
      "metadata": {
        "colab": {
          "base_uri": "https://localhost:8080/",
          "height": 141
        },
        "id": "CuEjjO99IexL",
        "outputId": "972fdee6-81af-4654-da25-fb7306e50214"
      },
      "execution_count": null,
      "outputs": [
        {
          "output_type": "execute_result",
          "data": {
            "text/plain": [
              "\"The rows of cells are unroofed,\\na flute for the wind's mouth,\\nwho comes with a breath of ice\\nfrom the blue caves of the south.\\n\\nO dark and fierce day:\\nthe wind like an angry bee\\nhunts for the black honey\\nin the pits of the hollow sea.\\n\\nWaves of shadow wash\\nthe empty shell bone-bare,\\nand like a bone it sings\\na bitter song of air.\\n\\nWho built and laboured here?\\nThe wind and the sea say\\n-Their cold nest is broken\\nand they are blown away-\\n\\nThey did not breed nor love,\\neach in his cell alone\\ncried as the wind now cries\\nthrough this flute of stone.The old prison referred to is the ruin at Trial Bay, near the now seaside resort of South West Rocks, Kempsey, New South Wales.\\nIn 1816 the brig 'Trial' was seized by some of the convicts aboard. In January 1817 it's wreck was located in a wide, deep bay near the mouth of the Macleay River. The bay was then named after the wrecked ship.  It became a place of shelter for coastal shipping and prison labour was brought in to enlarge the area with a breakwater. Work began on the construction of a prison, the first wing completed in 1879 but the first prisoners did not move in until 1886. The prison was closed in 1903 but re-opened during the 1914-1918 war. Over 500 German prisoners of war were held there but the building was once again closed after WW1. Many years later due to the ravages of war and vandals the ruin is but a shell of it's former self but the atmosphere within the remaining walls is tangible.\\n~Von~ © by owner. provided at no charge for educational purposes     \""
            ],
            "application/vnd.google.colaboratory.intrinsic+json": {
              "type": "string"
            }
          },
          "metadata": {},
          "execution_count": 194
        }
      ]
    },
    {
      "cell_type": "code",
      "source": [
        "JW_DF['Poem'][1]"
      ],
      "metadata": {
        "colab": {
          "base_uri": "https://localhost:8080/",
          "height": 141
        },
        "id": "FxI2-nREItd_",
        "outputId": "c5aa592d-4c7c-4b7a-adc0-fbf9b8c09a08"
      },
      "execution_count": null,
      "outputs": [
        {
          "output_type": "execute_result",
          "data": {
            "text/plain": [
              "\"The blacksmith's boy went out with a rifle\\nand a black dog running behind.\\nCobwebs snatched at his feet,\\nrivers hindered him,\\nthorn branches caught at his eyes to make him blind\\nand the sky turned into an unlucky opal,\\nbut he didn't mind.\\nI can break branches, I can swim rivers, I can stare out                             \\nany spider I meet,\\nsaid he to his dog and his rifle.\\n\\nThe blacksmith's boy went over the paddocks\\nwith his old black hat on his head.\\nMountains jumped in his way,\\nrocks rolled down on him,\\nand the old crow cried, You'll soon be dead.\\nAnd the rain came down like mattocks.\\nBut he only said,\\nI can climb mountains, I can dodge rocks, I can shoot an old crow any day,\\nand he went on over the paddocks.\\n\\nWhen he came to the end of the day, the sun began falling,\\nUp came the night ready to swallow him,\\nlike the barrel of a gun,\\nlike an old black hat,\\nlike a black dog hungry to follow him.\\nThen the pigeon, the magpie and the dove began wailing\\nand the grass lay down to pillow him.\\nHis rifle broke, his hat blew away and his dog was gone and the sun was falling.\\n\\nBut in front of the night, the rainbow stood on the mountain,\\njust as his heart foretold.\\nHe ran like a hare, \\nhe climbed like a fox;\\nhe caught it in his hands, the colours and the cold - \\nlike a bar of ice, like the column of a fountain,\\nlike a ring of gold.\\nThe pigeon, the magpie and the dove flew up to stare,\\nand the grass stood up again on the mountain.\\n\\nThe blacksmith's boy hung the rainbow on his shoulder\\ninstead of his broken gun.\\nLizards ran out to see, snakes made way for him,\\nand the rainbow shone as brightly as the sun.\\nAll the world said, Nobody is braver, nobody is bolder,\\nnobody else has done\\nanything equal to it. He went home as easy as could be\\nwith the swinging rainbow on his shoulder. © by owner. provided at no charge for educational purposes    \""
            ],
            "application/vnd.google.colaboratory.intrinsic+json": {
              "type": "string"
            }
          },
          "metadata": {},
          "execution_count": 195
        }
      ]
    },
    {
      "cell_type": "code",
      "source": [
        "MC_data=scrapeMCPoetsPoems()"
      ],
      "metadata": {
        "colab": {
          "base_uri": "https://localhost:8080/"
        },
        "id": "eaWF1El5JHpn",
        "outputId": "5bb9bfe7-bedd-4f56-a823-bd5f2e0fc271"
      },
      "execution_count": null,
      "outputs": [
        {
          "output_type": "stream",
          "name": "stdout",
          "text": [
            "https://allpoetry.com/poem/16465438-Hammerhead--by-Mac-Crary\n",
            "https://allpoetry.com/poem/16460673-Alone--Ashamed-and-Afraid-by-Mac-Crary\n",
            "https://allpoetry.com/poem/16459787-Civil-War-Mother-by-Mac-Crary\n",
            "https://allpoetry.com/poem/16457633-American-Cities-by-Mac-Crary\n",
            "https://allpoetry.com/poem/16454355-Media-Pimps-by-Mac-Crary\n",
            "https://allpoetry.com/poem/16441224-Russia-Cries--Too-by-Mac-Crary\n",
            "https://allpoetry.com/poem/16469055-Celestial-Bodies--by-Mac-Crary\n",
            "https://allpoetry.com/poem/16432519-In-the-Era-of-Trump-and-Pope-Francis-by-Mac-Crary\n",
            "https://allpoetry.com/poem/16442461-Old-Oligarchs-by-Mac-Crary\n",
            "https://allpoetry.com/poem/16384954-The-Fourth-Wall-by-Mac-Crary\n"
          ]
        }
      ]
    },
    {
      "cell_type": "code",
      "source": [
        "MC_data"
      ],
      "metadata": {
        "colab": {
          "base_uri": "https://localhost:8080/"
        },
        "id": "OMtEIvDlJOIX",
        "outputId": "269b2929-a990-4a83-e0ba-ee20d961d647"
      },
      "execution_count": null,
      "outputs": [
        {
          "output_type": "execute_result",
          "data": {
            "text/plain": [
              "[['Hammerhead ',\n",
              "  'Hammerhead \\n\\nCarnburgh rears children \\nTo make Arnold cluck \\nYou swore at the warrior warrior \\nSo nyer out of luck\\nThey made off with your wifey \\nAnd now you can’t Dealey\\nHammerhead sway.\\n\\nA nd Goebbels has crimsonite soothsay \\n\\nVirginity proves rape \\nAnd soon to be another Ice Age\\nHaha haha zzzzark \\n\\nEquity dId in your grannies\\nTrannies rule\\nSo hehn \\n\\nHammerhead cuz otherwise \\nLife just ain’t worth living  ©  on Apr 09 2022 09:28 AM PST       '],\n",
              " ['Alone, Ashamed and Afraid',\n",
              "  \"Ghostlike presences not wanting to intrude\\non those that have it made\\nin a world more and more eager \\nto call us unwanted.\\n\\nThe cancelled out\\ndisabled and elderly\\nfor all those years of being reminded\\nwhere it leads\\nstill too vulnerable\\nto the kindness of strangers.\\n\\nWe sit made aware by media\\nevery night and day\\nthe world's a different place\\nfor those that have it made\\nand that even in war, famine\\nand civil strife\\nheroism is always meant for someone else.\\n\\nWe lie for days \\nlike dogs on the floor of our toilet rooms\\nwith broken hips\\nwaiting for someone to alert the landlord\\nthat the mail is piling up.\\n\\nStill asking to be believed\\nwhen inquired as to how we are doing\\nwhen we say okay\\nand the reply comes quickly\\ngood to know and they sign right off.\\n\\nThe tears come strange\\nrelief to be shed of the worst fate of all\\nsomeone who knows what's best for us.\\n\\nWhen we die \\nwe are put in refrigerator trucks\\nwhile the worst people in the world\\nare called saints.\\n ©  on Apr 06 2022 04:20 PM PST      \"],\n",
              " ['Civil War Mother',\n",
              "  '\"OHHH,\\nlet them kill our grannies\\nlet them in their momentum lie and lie,\" \\nshe wailed as she wrang her dress of tears,\\n\"but my one and only savior hath died!\"\\nTad was important, Abe said,\\nbut if this continues \\nI will have to take you up the hill\\nto the sanitarium.\\n\\nOHHH,\\nand the children sang\\nhow many buzzards did Rosa feed\\nkilling our grannies\\nfor rock star sex greed? ©  on Apr 06 2022 06:51 AM PST      '],\n",
              " ['American Cities',\n",
              "  \"Rabid, they slink;\\na potpourri of poisons\\nfilling the margins with vendetta and death vow\\nflirting with nuclear destruction\\nthat may soon get its answer\\nwhat made them want some inner drive\\nscouring the android zone of skeletal learning\\nwith their pompous hate?\\nOffering only this with their pointers\\nas inheritance for the huddled children.\\n\\nThe crone gloats, her forked tongue gnashing\\na deadly gnastgeist of peace and drugs\\npulling on corpulent puppet strings very accented.\\n\\nLoping, they glower and leer\\nmongering of realty\\nburning the sheets to hide the hauckenkreuse\\nof sacred warriors! warriors!\\nlisping over every indication.\\n\\nThe elderly hustle to the drug store\\nwait hopelessly for their prince charming\\ndribbling with Kim and Alexie towards Citadel\\nand Greg's Final Accounting\\nwiretapping your home computer\\nfor Black Panther pimps. ©  on Apr 05 2022 03:00 AM PST      \"],\n",
              " ['Media Pimps',\n",
              "  \"Ethical traffic: gonna tell ya mama\\nthe computer will devize your karma\\ngonna surveillance your zealousness\\nput it down to failure of conscience\\ncontent of character on your machine.\\n\\nMedia pimps, holy war permission\\ngo ahead to the evil, son.\\n\\nGot your dream girl made to order\\ndoing her nails and waiting for instructions\\nto act out your deepest fears\\nfor the King of Kings' revenge.\\n\\n ©  on Apr 03 2022 07:07 AM PST       \"],\n",
              " ['Russia Cries, Too',\n",
              "  \"Russia cries, too\\ndon't want to hear that right now\\nwhen soldiers didn't come home.\\n\\nI used to believe that men cried, too\\nbut they taught me in school\\nonly women and dogs do.\\n\\nTongues are drunk, try it,\\nwomen are laughing\\nbefore they were scared\\nbut the dog that barked the loudest\\nis still hiding a big bang.\\n\\nSo professor\\nwhat do you say\\ndo they cry, too?\\nJust give me a passing grade. ©  on Mar 26 2022 01:59 PM PST      \"],\n",
              " ['Celestial Bodies ',\n",
              "  '“She’s very plain,”\\nMr. Weatherbee said\\nAs the mountains surrounded her \\nHugging themselves up expansively \\nSo she would see\\nAnd she tickled a little leaf that purred. ©  on Apr 11 2022 10:15 AM PST   rhyme    '],\n",
              " ['In the Era of Trump and Pope Francis',\n",
              "  \"A hush falls over hell\\nyou have been schooled by your betters.\\nAre not the wailing stains of relief so much sweeter now\\nthat you have watched other mothers bury their offspring\\nthink of your favorite songs, that will be all.\\nYour eyes have been temporarily spared\\nfor two forms of wailing relief and crying shame.\\nRenounce such belly aching at once and arise\\nbitter, stronger, prevailed.\\nWhat better way to squeeze\\nPulitzer pens to give heart to the crushed voices\\nthe shock of betrayal\\nthe children's corpses?\\nThink of your favorite songs, that will be all.\\n\\nImmigrants at the borders\\nyou rotten hoes.\\nElderly thrown into crematoria\\nat least they were allowed to die on respirators first\\nthe great improvements\\narise bitter, stronger prevailed\\nthink of your favorite songs that will be all.\\n\\n\\n\\n ©  on Mar 21 2022 10:25 AM PST      \"],\n",
              " ['Old Oligarchs',\n",
              "  'Old Oligarchs had a farm\\ne i e i o\\nand on this farm they had some nukes\\ne i e i o\\nwith a nuke threat here\\nand a nuke threat there\\nhere a threat there a threat\\neverywhere a zukenuke threat\\nOld Oligarchs had a farm\\ne i e i o. ©  on Mar 27 2022 09:18 AM PST       '],\n",
              " ['The Fourth Wall',\n",
              "  \"What was it like?\\nFirst, you gotta get goosebumps\\nwaking up all excited in the middle night\\nhow come? dummy, this was in China\\npoint at the floor it's way down there\\noh I see\\nokok so then you gotta be all cranked up inside\\non account as you ache for her heartache\\nright? She's in first and they du'un her wrong\\nand scapegoating and hardselling the mistake maybe\\nor even sabotage, no justice and you can tell\\nit's tearing at her.\\nRight, so get this, she comes on\\nin her mature gown, making her look all of 23\\nand the first row looks so tired\\nman you can feel it coming\\nand there's Kamila. Wow, can she ever skate,\\nand the tears start pouring from your eyes\\ncause you can see what she was out to do.\\nThen she fall not once but twice\\nand flips them the bird.\\nI have rarely been so moved.\\nKnow how, you may not be able to find it now\\nit was one of the Great Performances.\\nBut that's all I'm say'n.\\nYou can get the lowdown from the others.\\nThe “fourth wall” is an academic idea you’d have to look up something related to Mikhail Bakhtin’s idea of fourth drama. Throughout a long legal battle Valieva was allowed to skate.  I saw it on Peacock TV.  Viva Valieva, ©  on Feb 23 2022 07:53 AM PST      \"]]"
            ]
          },
          "metadata": {},
          "execution_count": 197
        }
      ]
    },
    {
      "cell_type": "code",
      "source": [
        "MC_DF = pd.DataFrame(MC_data)\n",
        "MC_DF.columns = ['Title', 'Poem']"
      ],
      "metadata": {
        "id": "se_s85fKJSSw"
      },
      "execution_count": null,
      "outputs": []
    },
    {
      "cell_type": "code",
      "source": [
        "MC_DF"
      ],
      "metadata": {
        "colab": {
          "base_uri": "https://localhost:8080/",
          "height": 363
        },
        "id": "P9IyX3cPJcM5",
        "outputId": "ac127f87-3c33-405b-85ae-f35aa082a572"
      },
      "execution_count": null,
      "outputs": [
        {
          "output_type": "execute_result",
          "data": {
            "text/plain": [
              "                                  Title  \\\n",
              "0                           Hammerhead    \n",
              "1             Alone, Ashamed and Afraid   \n",
              "2                      Civil War Mother   \n",
              "3                       American Cities   \n",
              "4                           Media Pimps   \n",
              "5                     Russia Cries, Too   \n",
              "6                     Celestial Bodies    \n",
              "7  In the Era of Trump and Pope Francis   \n",
              "8                         Old Oligarchs   \n",
              "9                       The Fourth Wall   \n",
              "\n",
              "                                                Poem  \n",
              "0  Hammerhead \\n\\nCarnburgh rears children \\nTo m...  \n",
              "1  Ghostlike presences not wanting to intrude\\non...  \n",
              "2  \"OHHH,\\nlet them kill our grannies\\nlet them i...  \n",
              "3  Rabid, they slink;\\na potpourri of poisons\\nfi...  \n",
              "4  Ethical traffic: gonna tell ya mama\\nthe compu...  \n",
              "5  Russia cries, too\\ndon't want to hear that rig...  \n",
              "6  “She’s very plain,”\\nMr. Weatherbee said\\nAs t...  \n",
              "7  A hush falls over hell\\nyou have been schooled...  \n",
              "8  Old Oligarchs had a farm\\ne i e i o\\nand on th...  \n",
              "9  What was it like?\\nFirst, you gotta get gooseb...  "
            ],
            "text/html": [
              "\n",
              "  <div id=\"df-857648d2-9151-4ec2-8395-302b4ef1525a\">\n",
              "    <div class=\"colab-df-container\">\n",
              "      <div>\n",
              "<style scoped>\n",
              "    .dataframe tbody tr th:only-of-type {\n",
              "        vertical-align: middle;\n",
              "    }\n",
              "\n",
              "    .dataframe tbody tr th {\n",
              "        vertical-align: top;\n",
              "    }\n",
              "\n",
              "    .dataframe thead th {\n",
              "        text-align: right;\n",
              "    }\n",
              "</style>\n",
              "<table border=\"1\" class=\"dataframe\">\n",
              "  <thead>\n",
              "    <tr style=\"text-align: right;\">\n",
              "      <th></th>\n",
              "      <th>Title</th>\n",
              "      <th>Poem</th>\n",
              "    </tr>\n",
              "  </thead>\n",
              "  <tbody>\n",
              "    <tr>\n",
              "      <th>0</th>\n",
              "      <td>Hammerhead</td>\n",
              "      <td>Hammerhead \\n\\nCarnburgh rears children \\nTo m...</td>\n",
              "    </tr>\n",
              "    <tr>\n",
              "      <th>1</th>\n",
              "      <td>Alone, Ashamed and Afraid</td>\n",
              "      <td>Ghostlike presences not wanting to intrude\\non...</td>\n",
              "    </tr>\n",
              "    <tr>\n",
              "      <th>2</th>\n",
              "      <td>Civil War Mother</td>\n",
              "      <td>\"OHHH,\\nlet them kill our grannies\\nlet them i...</td>\n",
              "    </tr>\n",
              "    <tr>\n",
              "      <th>3</th>\n",
              "      <td>American Cities</td>\n",
              "      <td>Rabid, they slink;\\na potpourri of poisons\\nfi...</td>\n",
              "    </tr>\n",
              "    <tr>\n",
              "      <th>4</th>\n",
              "      <td>Media Pimps</td>\n",
              "      <td>Ethical traffic: gonna tell ya mama\\nthe compu...</td>\n",
              "    </tr>\n",
              "    <tr>\n",
              "      <th>5</th>\n",
              "      <td>Russia Cries, Too</td>\n",
              "      <td>Russia cries, too\\ndon't want to hear that rig...</td>\n",
              "    </tr>\n",
              "    <tr>\n",
              "      <th>6</th>\n",
              "      <td>Celestial Bodies</td>\n",
              "      <td>“She’s very plain,”\\nMr. Weatherbee said\\nAs t...</td>\n",
              "    </tr>\n",
              "    <tr>\n",
              "      <th>7</th>\n",
              "      <td>In the Era of Trump and Pope Francis</td>\n",
              "      <td>A hush falls over hell\\nyou have been schooled...</td>\n",
              "    </tr>\n",
              "    <tr>\n",
              "      <th>8</th>\n",
              "      <td>Old Oligarchs</td>\n",
              "      <td>Old Oligarchs had a farm\\ne i e i o\\nand on th...</td>\n",
              "    </tr>\n",
              "    <tr>\n",
              "      <th>9</th>\n",
              "      <td>The Fourth Wall</td>\n",
              "      <td>What was it like?\\nFirst, you gotta get gooseb...</td>\n",
              "    </tr>\n",
              "  </tbody>\n",
              "</table>\n",
              "</div>\n",
              "      <button class=\"colab-df-convert\" onclick=\"convertToInteractive('df-857648d2-9151-4ec2-8395-302b4ef1525a')\"\n",
              "              title=\"Convert this dataframe to an interactive table.\"\n",
              "              style=\"display:none;\">\n",
              "        \n",
              "  <svg xmlns=\"http://www.w3.org/2000/svg\" height=\"24px\"viewBox=\"0 0 24 24\"\n",
              "       width=\"24px\">\n",
              "    <path d=\"M0 0h24v24H0V0z\" fill=\"none\"/>\n",
              "    <path d=\"M18.56 5.44l.94 2.06.94-2.06 2.06-.94-2.06-.94-.94-2.06-.94 2.06-2.06.94zm-11 1L8.5 8.5l.94-2.06 2.06-.94-2.06-.94L8.5 2.5l-.94 2.06-2.06.94zm10 10l.94 2.06.94-2.06 2.06-.94-2.06-.94-.94-2.06-.94 2.06-2.06.94z\"/><path d=\"M17.41 7.96l-1.37-1.37c-.4-.4-.92-.59-1.43-.59-.52 0-1.04.2-1.43.59L10.3 9.45l-7.72 7.72c-.78.78-.78 2.05 0 2.83L4 21.41c.39.39.9.59 1.41.59.51 0 1.02-.2 1.41-.59l7.78-7.78 2.81-2.81c.8-.78.8-2.07 0-2.86zM5.41 20L4 18.59l7.72-7.72 1.47 1.35L5.41 20z\"/>\n",
              "  </svg>\n",
              "      </button>\n",
              "      \n",
              "  <style>\n",
              "    .colab-df-container {\n",
              "      display:flex;\n",
              "      flex-wrap:wrap;\n",
              "      gap: 12px;\n",
              "    }\n",
              "\n",
              "    .colab-df-convert {\n",
              "      background-color: #E8F0FE;\n",
              "      border: none;\n",
              "      border-radius: 50%;\n",
              "      cursor: pointer;\n",
              "      display: none;\n",
              "      fill: #1967D2;\n",
              "      height: 32px;\n",
              "      padding: 0 0 0 0;\n",
              "      width: 32px;\n",
              "    }\n",
              "\n",
              "    .colab-df-convert:hover {\n",
              "      background-color: #E2EBFA;\n",
              "      box-shadow: 0px 1px 2px rgba(60, 64, 67, 0.3), 0px 1px 3px 1px rgba(60, 64, 67, 0.15);\n",
              "      fill: #174EA6;\n",
              "    }\n",
              "\n",
              "    [theme=dark] .colab-df-convert {\n",
              "      background-color: #3B4455;\n",
              "      fill: #D2E3FC;\n",
              "    }\n",
              "\n",
              "    [theme=dark] .colab-df-convert:hover {\n",
              "      background-color: #434B5C;\n",
              "      box-shadow: 0px 1px 3px 1px rgba(0, 0, 0, 0.15);\n",
              "      filter: drop-shadow(0px 1px 2px rgba(0, 0, 0, 0.3));\n",
              "      fill: #FFFFFF;\n",
              "    }\n",
              "  </style>\n",
              "\n",
              "      <script>\n",
              "        const buttonEl =\n",
              "          document.querySelector('#df-857648d2-9151-4ec2-8395-302b4ef1525a button.colab-df-convert');\n",
              "        buttonEl.style.display =\n",
              "          google.colab.kernel.accessAllowed ? 'block' : 'none';\n",
              "\n",
              "        async function convertToInteractive(key) {\n",
              "          const element = document.querySelector('#df-857648d2-9151-4ec2-8395-302b4ef1525a');\n",
              "          const dataTable =\n",
              "            await google.colab.kernel.invokeFunction('convertToInteractive',\n",
              "                                                     [key], {});\n",
              "          if (!dataTable) return;\n",
              "\n",
              "          const docLinkHtml = 'Like what you see? Visit the ' +\n",
              "            '<a target=\"_blank\" href=https://colab.research.google.com/notebooks/data_table.ipynb>data table notebook</a>'\n",
              "            + ' to learn more about interactive tables.';\n",
              "          element.innerHTML = '';\n",
              "          dataTable['output_type'] = 'display_data';\n",
              "          await google.colab.output.renderOutput(dataTable, element);\n",
              "          const docLink = document.createElement('div');\n",
              "          docLink.innerHTML = docLinkHtml;\n",
              "          element.appendChild(docLink);\n",
              "        }\n",
              "      </script>\n",
              "    </div>\n",
              "  </div>\n",
              "  "
            ]
          },
          "metadata": {},
          "execution_count": 199
        }
      ]
    },
    {
      "cell_type": "code",
      "source": [
        "def cleanPoemText(text):\n",
        "    \n",
        "    text = re.sub(r'<.*?>', ' ', text)\n",
        "    text = re.sub(r\"won't\", \"will not\", text)\n",
        "    text = re.sub(r\"can't\", \"can not\", text)\n",
        "    text = re.sub(r\"n't\", \" not\", text)\n",
        "    text = re.sub(r\"'ve\", \" have\", text)\n",
        "    text = re.sub(r\"'ll\", \" will\", text)\n",
        "    text = re.sub(r\"'re\", \" are\", text)\n",
        "\n",
        "    if embedding is not 'BERT':\n",
        "        text = re.sub(r\"[0-9]+\", ' ', text)\n",
        "        text = re.sub(r\"-\", ' ', text)\n",
        "    \n",
        "    \n",
        "    text = text.strip().lower()\n",
        "    \n",
        "    if embedding is 'WORD2VEC_NO_STOP':\n",
        "        # Removal of Stop words\n",
        "        default_stop_words = set(stopwords.words('english'))\n",
        "        default_stop_words.difference_update({'no', 'not', 'nor', 'too', 'any'})\n",
        "        stop_words = default_stop_words.union({\"'m\", \"n't\", \"'d\", \"'re\", \"'s\",\n",
        "                                               'would','must',\"'ve\",\"'ll\",'may'})\n",
        "    \n",
        "        word_list = word_tokenize(text)\n",
        "        filtered_list = [w for w in word_list if not w in stop_words]\n",
        "        text = ' '.join(filtered_list)\n",
        "    \n",
        "    if embedding is not 'BERT':\n",
        "        # Removal of other contractions\n",
        "        text = re.sub(r\"'\", ' ', text)\n",
        "    \n",
        "    # Replace punctuations with space\n",
        "    if embedding is 'BERT': # save ! ? . for end of the sentence detection [,/():;']\n",
        "        filters='\"#$%&*+<=>@[\\\\]^_`{|}~\\t\\n'\n",
        "        text = re.sub(r'\\!+', '!', text)\n",
        "        text = re.sub(r'\\?+', '?', text)\n",
        "    else:\n",
        "        filters='!\"\\'#$%&()*+,-./:;<=>?@[\\\\]^_`{|}~\\t\\n'\n",
        "    translate_dict = dict((i, \" \") for i in filters)\n",
        "    translate_map = str.maketrans(translate_dict)\n",
        "    text = text.translate(translate_map)\n",
        "    \n",
        "    if embedding is 'BERT':\n",
        "        text = re.sub(r'\\( *\\)', ' ', text)\n",
        "\n",
        "    if embedding is not 'BERT':\n",
        "        text = ' '.join([w for w in text.split() if len(w)>1])\n",
        "\n",
        "    # Replace multiple space with one space\n",
        "    text = re.sub(' +', ' ', text)\n",
        "    \n",
        "    text = ''.join(text)\n",
        "\n",
        "    return text"
      ],
      "metadata": {
        "id": "-UIiaYmnKsTI"
      },
      "execution_count": null,
      "outputs": []
    },
    {
      "cell_type": "code",
      "source": [
        "def normalization_pos(text):\n",
        "    # Lemmatization and Stemming according to POS tags\n",
        "\n",
        "    word_list = word_tokenize(text)\n",
        "    rev = []\n",
        "    lemmatizer = WordNetLemmatizer() \n",
        "    stemmer = PorterStemmer() \n",
        "    for word, tag in pos_tag(word_list):\n",
        "        if tag.startswith('J'):\n",
        "            w = lemmatizer.lemmatize(word, pos='a')\n",
        "        elif tag.startswith('V'):\n",
        "            w = lemmatizer.lemmatize(word, pos='v')\n",
        "        elif tag.startswith('N'):\n",
        "            w = lemmatizer.lemmatize(word, pos='n')\n",
        "        elif tag.startswith('R'):\n",
        "            w = lemmatizer.lemmatize(word, pos='r')\n",
        "        else:\n",
        "            w = word\n",
        "        w = stemmer.stem(w)\n",
        "        rev.append(w)\n",
        "    review = ' '.join(rev)\n",
        "    return review"
      ],
      "metadata": {
        "id": "mfUNOiBDQiJc"
      },
      "execution_count": null,
      "outputs": []
    },
    {
      "cell_type": "code",
      "source": [
        "embedding = ''\n",
        "# for Word2Vec with stop words\n",
        "MC_DF['Poem'] = MC_DF['Poem'].apply(cleanPoemText)\n",
        "MC_DF.head(1)"
      ],
      "metadata": {
        "colab": {
          "base_uri": "https://localhost:8080/",
          "height": 80
        },
        "id": "WjTQZsr8RLue",
        "outputId": "59ab514d-5ba4-472b-c23b-247c062fe199"
      },
      "execution_count": null,
      "outputs": [
        {
          "output_type": "execute_result",
          "data": {
            "text/plain": [
              "         Title                                               Poem\n",
              "0  Hammerhead   hammerhead carnburgh rears children to make ar..."
            ],
            "text/html": [
              "\n",
              "  <div id=\"df-f8c1fed3-9121-41b2-9c46-f45c38b6adfa\">\n",
              "    <div class=\"colab-df-container\">\n",
              "      <div>\n",
              "<style scoped>\n",
              "    .dataframe tbody tr th:only-of-type {\n",
              "        vertical-align: middle;\n",
              "    }\n",
              "\n",
              "    .dataframe tbody tr th {\n",
              "        vertical-align: top;\n",
              "    }\n",
              "\n",
              "    .dataframe thead th {\n",
              "        text-align: right;\n",
              "    }\n",
              "</style>\n",
              "<table border=\"1\" class=\"dataframe\">\n",
              "  <thead>\n",
              "    <tr style=\"text-align: right;\">\n",
              "      <th></th>\n",
              "      <th>Title</th>\n",
              "      <th>Poem</th>\n",
              "    </tr>\n",
              "  </thead>\n",
              "  <tbody>\n",
              "    <tr>\n",
              "      <th>0</th>\n",
              "      <td>Hammerhead</td>\n",
              "      <td>hammerhead carnburgh rears children to make ar...</td>\n",
              "    </tr>\n",
              "  </tbody>\n",
              "</table>\n",
              "</div>\n",
              "      <button class=\"colab-df-convert\" onclick=\"convertToInteractive('df-f8c1fed3-9121-41b2-9c46-f45c38b6adfa')\"\n",
              "              title=\"Convert this dataframe to an interactive table.\"\n",
              "              style=\"display:none;\">\n",
              "        \n",
              "  <svg xmlns=\"http://www.w3.org/2000/svg\" height=\"24px\"viewBox=\"0 0 24 24\"\n",
              "       width=\"24px\">\n",
              "    <path d=\"M0 0h24v24H0V0z\" fill=\"none\"/>\n",
              "    <path d=\"M18.56 5.44l.94 2.06.94-2.06 2.06-.94-2.06-.94-.94-2.06-.94 2.06-2.06.94zm-11 1L8.5 8.5l.94-2.06 2.06-.94-2.06-.94L8.5 2.5l-.94 2.06-2.06.94zm10 10l.94 2.06.94-2.06 2.06-.94-2.06-.94-.94-2.06-.94 2.06-2.06.94z\"/><path d=\"M17.41 7.96l-1.37-1.37c-.4-.4-.92-.59-1.43-.59-.52 0-1.04.2-1.43.59L10.3 9.45l-7.72 7.72c-.78.78-.78 2.05 0 2.83L4 21.41c.39.39.9.59 1.41.59.51 0 1.02-.2 1.41-.59l7.78-7.78 2.81-2.81c.8-.78.8-2.07 0-2.86zM5.41 20L4 18.59l7.72-7.72 1.47 1.35L5.41 20z\"/>\n",
              "  </svg>\n",
              "      </button>\n",
              "      \n",
              "  <style>\n",
              "    .colab-df-container {\n",
              "      display:flex;\n",
              "      flex-wrap:wrap;\n",
              "      gap: 12px;\n",
              "    }\n",
              "\n",
              "    .colab-df-convert {\n",
              "      background-color: #E8F0FE;\n",
              "      border: none;\n",
              "      border-radius: 50%;\n",
              "      cursor: pointer;\n",
              "      display: none;\n",
              "      fill: #1967D2;\n",
              "      height: 32px;\n",
              "      padding: 0 0 0 0;\n",
              "      width: 32px;\n",
              "    }\n",
              "\n",
              "    .colab-df-convert:hover {\n",
              "      background-color: #E2EBFA;\n",
              "      box-shadow: 0px 1px 2px rgba(60, 64, 67, 0.3), 0px 1px 3px 1px rgba(60, 64, 67, 0.15);\n",
              "      fill: #174EA6;\n",
              "    }\n",
              "\n",
              "    [theme=dark] .colab-df-convert {\n",
              "      background-color: #3B4455;\n",
              "      fill: #D2E3FC;\n",
              "    }\n",
              "\n",
              "    [theme=dark] .colab-df-convert:hover {\n",
              "      background-color: #434B5C;\n",
              "      box-shadow: 0px 1px 3px 1px rgba(0, 0, 0, 0.15);\n",
              "      filter: drop-shadow(0px 1px 2px rgba(0, 0, 0, 0.3));\n",
              "      fill: #FFFFFF;\n",
              "    }\n",
              "  </style>\n",
              "\n",
              "      <script>\n",
              "        const buttonEl =\n",
              "          document.querySelector('#df-f8c1fed3-9121-41b2-9c46-f45c38b6adfa button.colab-df-convert');\n",
              "        buttonEl.style.display =\n",
              "          google.colab.kernel.accessAllowed ? 'block' : 'none';\n",
              "\n",
              "        async function convertToInteractive(key) {\n",
              "          const element = document.querySelector('#df-f8c1fed3-9121-41b2-9c46-f45c38b6adfa');\n",
              "          const dataTable =\n",
              "            await google.colab.kernel.invokeFunction('convertToInteractive',\n",
              "                                                     [key], {});\n",
              "          if (!dataTable) return;\n",
              "\n",
              "          const docLinkHtml = 'Like what you see? Visit the ' +\n",
              "            '<a target=\"_blank\" href=https://colab.research.google.com/notebooks/data_table.ipynb>data table notebook</a>'\n",
              "            + ' to learn more about interactive tables.';\n",
              "          element.innerHTML = '';\n",
              "          dataTable['output_type'] = 'display_data';\n",
              "          await google.colab.output.renderOutput(dataTable, element);\n",
              "          const docLink = document.createElement('div');\n",
              "          docLink.innerHTML = docLinkHtml;\n",
              "          element.appendChild(docLink);\n",
              "        }\n",
              "      </script>\n",
              "    </div>\n",
              "  </div>\n",
              "  "
            ]
          },
          "metadata": {},
          "execution_count": 202
        }
      ]
    },
    {
      "cell_type": "code",
      "source": [
        "MC_json = MC_DF.to_json(orient = \"records\")"
      ],
      "metadata": {
        "id": "2grkd8SXRjs_"
      },
      "execution_count": null,
      "outputs": []
    },
    {
      "cell_type": "code",
      "source": [
        "MC_json = json.loads(MC_json)\n",
        "print(MC_json)"
      ],
      "metadata": {
        "colab": {
          "base_uri": "https://localhost:8080/"
        },
        "id": "bGk25ck9RrXp",
        "outputId": "db6c0b7f-5357-429d-e836-4dc170db02d2"
      },
      "execution_count": null,
      "outputs": [
        {
          "output_type": "stream",
          "name": "stdout",
          "text": [
            "[{'Title': 'Hammerhead ', 'Poem': 'hammerhead carnburgh rears children to make arnold cluck you swore at the warrior warrior so nyer out of luck they made off with your wifey and now you can’t dealey hammerhead sway nd goebbels has crimsonite soothsay virginity proves rape and soon to be another ice age haha haha zzzzark equity did in your grannies trannies rule so hehn hammerhead cuz otherwise life just ain’t worth living on apr am pst'}, {'Title': 'Alone, Ashamed and Afraid', 'Poem': 'ghostlike presences not wanting to intrude on those that have it made in world more and more eager to call us unwanted the cancelled out disabled and elderly for all those years of being reminded where it leads still too vulnerable to the kindness of strangers we sit made aware by media every night and day the world different place for those that have it made and that even in war famine and civil strife heroism is always meant for someone else we lie for days like dogs on the floor of our toilet rooms with broken hips waiting for someone to alert the landlord that the mail is piling up still asking to be believed when inquired as to how we are doing when we say okay and the reply comes quickly good to know and they sign right off the tears come strange relief to be shed of the worst fate of all someone who knows what best for us when we die we are put in refrigerator trucks while the worst people in the world are called saints on apr pm pst'}, {'Title': 'Civil War Mother', 'Poem': 'ohhh let them kill our grannies let them in their momentum lie and lie she wailed as she wrang her dress of tears but my one and only savior hath died tad was important abe said but if this continues will have to take you up the hill to the sanitarium ohhh and the children sang how many buzzards did rosa feed killing our grannies for rock star sex greed on apr am pst'}, {'Title': 'American Cities', 'Poem': 'rabid they slink potpourri of poisons filling the margins with vendetta and death vow flirting with nuclear destruction that may soon get its answer what made them want some inner drive scouring the android zone of skeletal learning with their pompous hate offering only this with their pointers as inheritance for the huddled children the crone gloats her forked tongue gnashing deadly gnastgeist of peace and drugs pulling on corpulent puppet strings very accented loping they glower and leer mongering of realty burning the sheets to hide the hauckenkreuse of sacred warriors warriors lisping over every indication the elderly hustle to the drug store wait hopelessly for their prince charming dribbling with kim and alexie towards citadel and greg final accounting wiretapping your home computer for black panther pimps on apr am pst'}, {'Title': 'Media Pimps', 'Poem': 'ethical traffic gonna tell ya mama the computer will devize your karma gonna surveillance your zealousness put it down to failure of conscience content of character on your machine media pimps holy war permission go ahead to the evil son got your dream girl made to order doing her nails and waiting for instructions to act out your deepest fears for the king of kings revenge on apr am pst'}, {'Title': 'Russia Cries, Too', 'Poem': 'russia cries too do not want to hear that right now when soldiers did not come home used to believe that men cried too but they taught me in school only women and dogs do tongues are drunk try it women are laughing before they were scared but the dog that barked the loudest is still hiding big bang so professor what do you say do they cry too just give me passing grade on mar pm pst'}, {'Title': 'Celestial Bodies ', 'Poem': '“she’s very plain mr weatherbee said as the mountains surrounded her hugging themselves up expansively so she would see and she tickled little leaf that purred on apr am pst rhyme'}, {'Title': 'In the Era of Trump and Pope Francis', 'Poem': 'hush falls over hell you have been schooled by your betters are not the wailing stains of relief so much sweeter now that you have watched other mothers bury their offspring think of your favorite songs that will be all your eyes have been temporarily spared for two forms of wailing relief and crying shame renounce such belly aching at once and arise bitter stronger prevailed what better way to squeeze pulitzer pens to give heart to the crushed voices the shock of betrayal the children corpses think of your favorite songs that will be all immigrants at the borders you rotten hoes elderly thrown into crematoria at least they were allowed to die on respirators first the great improvements arise bitter stronger prevailed think of your favorite songs that will be all on mar am pst'}, {'Title': 'Old Oligarchs', 'Poem': 'old oligarchs had farm and on this farm they had some nukes with nuke threat here and nuke threat there here threat there threat everywhere zukenuke threat old oligarchs had farm on mar am pst'}, {'Title': 'The Fourth Wall', 'Poem': 'what was it like first you gotta get goosebumps waking up all excited in the middle night how come dummy this was in china point at the floor it way down there oh see okok so then you gotta be all cranked up inside on account as you ache for her heartache right she in first and they du un her wrong and scapegoating and hardselling the mistake maybe or even sabotage no justice and you can tell it tearing at her right so get this she comes on in her mature gown making her look all of and the first row looks so tired man you can feel it coming and there kamila wow can she ever skate and the tears start pouring from your eyes cause you can see what she was out to do then she fall not once but twice and flips them the bird have rarely been so moved know how you may not be able to find it now it was one of the great performances but that all say you can get the lowdown from the others the “fourth wall” is an academic idea you’d have to look up something related to mikhail bakhtin’s idea of fourth drama throughout long legal battle valieva was allowed to skate saw it on peacock tv viva valieva on feb am pst'}]\n"
          ]
        }
      ]
    },
    {
      "cell_type": "code",
      "source": [
        "MC_json[0]['Poem']"
      ],
      "metadata": {
        "colab": {
          "base_uri": "https://localhost:8080/",
          "height": 88
        },
        "id": "ZElz4iaeRy8R",
        "outputId": "733f5c5a-480e-48e8-b722-29e59e2595a3"
      },
      "execution_count": null,
      "outputs": [
        {
          "output_type": "execute_result",
          "data": {
            "text/plain": [
              "'hammerhead carnburgh rears children to make arnold cluck you swore at the warrior warrior so nyer out of luck they made off with your wifey and now you can’t dealey hammerhead sway nd goebbels has crimsonite soothsay virginity proves rape and soon to be another ice age haha haha zzzzark equity did in your grannies trannies rule so hehn hammerhead cuz otherwise life just ain’t worth living on apr am pst'"
            ],
            "application/vnd.google.colaboratory.intrinsic+json": {
              "type": "string"
            }
          },
          "metadata": {},
          "execution_count": 205
        }
      ]
    },
    {
      "cell_type": "code",
      "source": [
        "embedding = ''\n",
        "# for Word2Vec with stop words\n",
        "JW_DF['Poem'] = JW_DF['Poem'].apply(cleanPoemText)\n",
        "JW_DF.head(1)"
      ],
      "metadata": {
        "colab": {
          "base_uri": "https://localhost:8080/",
          "height": 80
        },
        "id": "Y0FdDhccR3yT",
        "outputId": "1b058b37-ad33-4d4f-ca9b-a68ff3beb108"
      },
      "execution_count": null,
      "outputs": [
        {
          "output_type": "execute_result",
          "data": {
            "text/plain": [
              "            Title                                               Poem\n",
              "0  The Old Prison  the rows of cells are unroofed flute for the w..."
            ],
            "text/html": [
              "\n",
              "  <div id=\"df-64cf2a3f-dd0a-4adf-8b75-51cd0a0466ce\">\n",
              "    <div class=\"colab-df-container\">\n",
              "      <div>\n",
              "<style scoped>\n",
              "    .dataframe tbody tr th:only-of-type {\n",
              "        vertical-align: middle;\n",
              "    }\n",
              "\n",
              "    .dataframe tbody tr th {\n",
              "        vertical-align: top;\n",
              "    }\n",
              "\n",
              "    .dataframe thead th {\n",
              "        text-align: right;\n",
              "    }\n",
              "</style>\n",
              "<table border=\"1\" class=\"dataframe\">\n",
              "  <thead>\n",
              "    <tr style=\"text-align: right;\">\n",
              "      <th></th>\n",
              "      <th>Title</th>\n",
              "      <th>Poem</th>\n",
              "    </tr>\n",
              "  </thead>\n",
              "  <tbody>\n",
              "    <tr>\n",
              "      <th>0</th>\n",
              "      <td>The Old Prison</td>\n",
              "      <td>the rows of cells are unroofed flute for the w...</td>\n",
              "    </tr>\n",
              "  </tbody>\n",
              "</table>\n",
              "</div>\n",
              "      <button class=\"colab-df-convert\" onclick=\"convertToInteractive('df-64cf2a3f-dd0a-4adf-8b75-51cd0a0466ce')\"\n",
              "              title=\"Convert this dataframe to an interactive table.\"\n",
              "              style=\"display:none;\">\n",
              "        \n",
              "  <svg xmlns=\"http://www.w3.org/2000/svg\" height=\"24px\"viewBox=\"0 0 24 24\"\n",
              "       width=\"24px\">\n",
              "    <path d=\"M0 0h24v24H0V0z\" fill=\"none\"/>\n",
              "    <path d=\"M18.56 5.44l.94 2.06.94-2.06 2.06-.94-2.06-.94-.94-2.06-.94 2.06-2.06.94zm-11 1L8.5 8.5l.94-2.06 2.06-.94-2.06-.94L8.5 2.5l-.94 2.06-2.06.94zm10 10l.94 2.06.94-2.06 2.06-.94-2.06-.94-.94-2.06-.94 2.06-2.06.94z\"/><path d=\"M17.41 7.96l-1.37-1.37c-.4-.4-.92-.59-1.43-.59-.52 0-1.04.2-1.43.59L10.3 9.45l-7.72 7.72c-.78.78-.78 2.05 0 2.83L4 21.41c.39.39.9.59 1.41.59.51 0 1.02-.2 1.41-.59l7.78-7.78 2.81-2.81c.8-.78.8-2.07 0-2.86zM5.41 20L4 18.59l7.72-7.72 1.47 1.35L5.41 20z\"/>\n",
              "  </svg>\n",
              "      </button>\n",
              "      \n",
              "  <style>\n",
              "    .colab-df-container {\n",
              "      display:flex;\n",
              "      flex-wrap:wrap;\n",
              "      gap: 12px;\n",
              "    }\n",
              "\n",
              "    .colab-df-convert {\n",
              "      background-color: #E8F0FE;\n",
              "      border: none;\n",
              "      border-radius: 50%;\n",
              "      cursor: pointer;\n",
              "      display: none;\n",
              "      fill: #1967D2;\n",
              "      height: 32px;\n",
              "      padding: 0 0 0 0;\n",
              "      width: 32px;\n",
              "    }\n",
              "\n",
              "    .colab-df-convert:hover {\n",
              "      background-color: #E2EBFA;\n",
              "      box-shadow: 0px 1px 2px rgba(60, 64, 67, 0.3), 0px 1px 3px 1px rgba(60, 64, 67, 0.15);\n",
              "      fill: #174EA6;\n",
              "    }\n",
              "\n",
              "    [theme=dark] .colab-df-convert {\n",
              "      background-color: #3B4455;\n",
              "      fill: #D2E3FC;\n",
              "    }\n",
              "\n",
              "    [theme=dark] .colab-df-convert:hover {\n",
              "      background-color: #434B5C;\n",
              "      box-shadow: 0px 1px 3px 1px rgba(0, 0, 0, 0.15);\n",
              "      filter: drop-shadow(0px 1px 2px rgba(0, 0, 0, 0.3));\n",
              "      fill: #FFFFFF;\n",
              "    }\n",
              "  </style>\n",
              "\n",
              "      <script>\n",
              "        const buttonEl =\n",
              "          document.querySelector('#df-64cf2a3f-dd0a-4adf-8b75-51cd0a0466ce button.colab-df-convert');\n",
              "        buttonEl.style.display =\n",
              "          google.colab.kernel.accessAllowed ? 'block' : 'none';\n",
              "\n",
              "        async function convertToInteractive(key) {\n",
              "          const element = document.querySelector('#df-64cf2a3f-dd0a-4adf-8b75-51cd0a0466ce');\n",
              "          const dataTable =\n",
              "            await google.colab.kernel.invokeFunction('convertToInteractive',\n",
              "                                                     [key], {});\n",
              "          if (!dataTable) return;\n",
              "\n",
              "          const docLinkHtml = 'Like what you see? Visit the ' +\n",
              "            '<a target=\"_blank\" href=https://colab.research.google.com/notebooks/data_table.ipynb>data table notebook</a>'\n",
              "            + ' to learn more about interactive tables.';\n",
              "          element.innerHTML = '';\n",
              "          dataTable['output_type'] = 'display_data';\n",
              "          await google.colab.output.renderOutput(dataTable, element);\n",
              "          const docLink = document.createElement('div');\n",
              "          docLink.innerHTML = docLinkHtml;\n",
              "          element.appendChild(docLink);\n",
              "        }\n",
              "      </script>\n",
              "    </div>\n",
              "  </div>\n",
              "  "
            ]
          },
          "metadata": {},
          "execution_count": 206
        }
      ]
    },
    {
      "cell_type": "code",
      "source": [
        "JW_json = JW_DF.to_json(orient = \"records\")"
      ],
      "metadata": {
        "id": "s2eniM80Sfnv"
      },
      "execution_count": null,
      "outputs": []
    },
    {
      "cell_type": "code",
      "source": [
        "JW_json = json.loads(JW_json)\n",
        "print(JW_json)"
      ],
      "metadata": {
        "colab": {
          "base_uri": "https://localhost:8080/"
        },
        "id": "b5MX6qBgSiBA",
        "outputId": "83e6b4e0-9636-4faa-cdca-a79b4ba2c081"
      },
      "execution_count": null,
      "outputs": [
        {
          "output_type": "stream",
          "name": "stdout",
          "text": [
            "[{'Title': 'The Old Prison', 'Poem': 'the rows of cells are unroofed flute for the wind mouth who comes with breath of ice from the blue caves of the south dark and fierce day the wind like an angry bee hunts for the black honey in the pits of the hollow sea waves of shadow wash the empty shell bone bare and like bone it sings bitter song of air who built and laboured here the wind and the sea say their cold nest is broken and they are blown away they did not breed nor love each in his cell alone cried as the wind now cries through this flute of stone the old prison referred to is the ruin at trial bay near the now seaside resort of south west rocks kempsey new south wales in the brig trial was seized by some of the convicts aboard in january it wreck was located in wide deep bay near the mouth of the macleay river the bay was then named after the wrecked ship it became place of shelter for coastal shipping and prison labour was brought in to enlarge the area with breakwater work began on the construction of prison the first wing completed in but the first prisoners did not move in until the prison was closed in but re opened during the war over german prisoners of war were held there but the building was once again closed after ww many years later due to the ravages of war and vandals the ruin is but shell of it former self but the atmosphere within the remaining walls is tangible von by owner provided at no charge for educational purposes'}, {'Title': 'Legend', 'Poem': 'the blacksmith boy went out with rifle and black dog running behind cobwebs snatched at his feet rivers hindered him thorn branches caught at his eyes to make him blind and the sky turned into an unlucky opal but he did not mind can break branches can swim rivers can stare out any spider meet said he to his dog and his rifle the blacksmith boy went over the paddocks with his old black hat on his head mountains jumped in his way rocks rolled down on him and the old crow cried you will soon be dead and the rain came down like mattocks but he only said can climb mountains can dodge rocks can shoot an old crow any day and he went on over the paddocks when he came to the end of the day the sun began falling up came the night ready to swallow him like the barrel of gun like an old black hat like black dog hungry to follow him then the pigeon the magpie and the dove began wailing and the grass lay down to pillow him his rifle broke his hat blew away and his dog was gone and the sun was falling but in front of the night the rainbow stood on the mountain just as his heart foretold he ran like hare he climbed like fox he caught it in his hands the colours and the cold like bar of ice like the column of fountain like ring of gold the pigeon the magpie and the dove flew up to stare and the grass stood up again on the mountain the blacksmith boy hung the rainbow on his shoulder instead of his broken gun lizards ran out to see snakes made way for him and the rainbow shone as brightly as the sun all the world said nobody is braver nobody is bolder nobody else has done anything equal to it he went home as easy as could be with the swinging rainbow on his shoulder by owner provided at no charge for educational purposes'}, {'Title': 'Trapped Dingo', 'Poem': 'so here twisted in steel and spoiled with red your sunlight hide smelling of death and fear they crushed out your throat the terrible song you sang in the dark ranges with what crying you mourned him the drinker of blood the swift death bringer who ran with you so many night and the night was long heard you desperate poet did you hear my silent voice take up the cry replying achilles is overcome and hector dead and clay stops many warrior mouth wild singer voice from the hills and the river drunken with rain for your lament the long night was too brief hurling your woes at the moon that old cleaned bone till the white shorn mobs of stars on the hill of the sky huddled and trembled you tolled him the rebel one insane andromache pacing your towers alone death ends the verse you chanted here you lie the lover the maker of elegies is slain and veiled with blood her body stealthy sun by owner provided at no charge for educational purposes'}, {'Title': 'The Surfer', 'Poem': 'he thrust his joy against the weight of the sea climbed through slid under those long banks of foam— hawthorn hedges in spring thorns in the face stinging how his brown strength drove through the hollow and coil of green through weirs of water muscle of arm thrust down long muscle of water and swimming so went out of sight where mortal masterful frail the gulls went wheeling in air as he in water with delight turn home the sun goes down swimmer turn home last leaf of gold vanishes from the sea curve take the big roller’s shoulder speed and serve come to the long beach home like gull diving for on the sand the grey wolf sea lies snarling cold twilight wind splits the waves’ hair and shows the bones they worry in their wolf teeth wind blows and sea crouches on sand fawning and mouthing drops there and snatches again drops and again snatches its broken toys its whitened pebbles and shells by owner provided at no charge for educational purposes'}, {'Title': 'Woman To Man', 'Poem': 'the eyeless labourer in the night the selfless shapeless seed hold builds for its resurrection day silent and swift and deep from sight foresees the unimagined light this is no child with child face this has no name to name it by yet you and have known it well this is our hunter and our chase the third who lay in our embrace this is the strength that your arm knows the arc of flesh that is my breast the precise crystals of our eyes this is the blood wild tree that grows the intricate and folded rose this is the maker and the made this is the question and reply the blind head butting at the dark the blaze of light along the blade oh hold me for am afraid by owner provided at no charge for educational purposes'}, {'Title': 'South Of My Days', 'Poem': 'south of my days circle part of my blood country rises that tableland high delicate outlineof bony slopes wincing under the winter low trees blue leaved and olive outcropping granite clean lean hungry country the creek leaf silenced willow choked the slope tangle of medlar and crabapplebranching over and under blotched with green lichen and the old cottage lurches in for shelter cold the black frost night the walls draw in to the warmthand the old roof cracks its joints the slung kettlehisses leak on the fire hardly to be believed that summer will turn up again some day in wave of rambler roses thrust it hot face in here to tell another yarn story old dan can spin into blanket against the winter seventy years of stories he clutches round his bones seventy years are hived in him like old honey droving that year charleville to the hunter nineteen one it was and the drought beginning sixty head left at the mcintyre the mud round themhardened like iron and the yellow boy diedin the sulky ahead with the gear but the horse went on stopped at sandy camp and waited in the evening it was the flies we seen first swarming like bees came to the hunter three hundred head of thousand cruel to keep them alive and the river was dust or mustering up in the bogongs in the autumnwhen the blizzards came early brought them down webrought them down what are not there yet or driving for cobb on the runup from tamworth thunderbolt at the top of hungry hill and give him wink would not wait long fred not if was you the troopers are just behind coming for that job at the hillgrove he went like luny him on his big black horse oh they slide and they vanishas he shuffles the years like pack of conjuror cards true or not it all the same and the frost on the roofcracks like whip and the back log break into ash wake old man this is winter and the yarns are over no one is listeningsouth of my days circlei know it dark against the stars the high lean countryfull of old stories that still go walking in my sleep by owner provided at no charge for educational purposes'}, {'Title': 'Request To A Year', 'Poem': 'if the year is meditating suitable gift should like it to be the attitudeof my great great grandmother legendary devotee of the arts who having eight childrenand little opportunity for painting pictures sat one day on high rockbeside river in switzerlandand from difficult distance viewedher second son balanced on small ice flow drift down the current toward waterfallthat struck rock bottom eighty feet below while her second daughter impeded no doubt by the petticoats of the day stretched out last hope alpenstock which luckily later caught him on his way nothing it was evident could be done and with the artist isolating eyemy great great grandmother hastily sketched the scene the sketch survives to prove the story by year if you have no mother day present planned reach back and bring me the firmness of her hand by owner provided at no charge for educational purposes'}, {'Title': 'Late Spring', 'Poem': 'the moon drained white by day lifts from the hill where the old pear tree fallen in storm springs up in blossom still women believe in the moon this branch hold is not more white and still than she whose flower is ages old and so carry home flowers from the pear that makes such obstinate tokens still for fruit it cannot bear by owner provided at no charge for educational purposes'}, {'Title': 'To a Child', 'Poem': 'when was child sawa burning bird in tree see became am am became see in winter dawns of frostthe lamp swung in my hand the battered moon on the slopelay like dune of sand and in the trap at my feetthe rabbit leapt and prayed weeping blood and crouchedwhen the light shone on the blade the sudden sun lit upthe webs from wire to wire the white webs the white dew blazed with holy fire flame of light in the dew flame of blood on the bushanswered the whirling sunand the voice of the early thrush think of this for you would not have you believethe world is empty of truthor that men must grieve but hear the song of the martyrsout of bush of fire all is consumed with love all is renewed with desire by owner provided at no charge for educational purposes'}, {'Title': 'Train Journey', 'Poem': 'glassed with cold sleep and dazzled by the moon out of the confused hammering dark of the train looked and saw under the moon cold sheet your delicate dry breasts country that built my heart and the small trees on their uncoloured slope like poetry moved articulate and sharp and purposeful under the great dry flight of air under the crosswise currents of wind and star clench down your strength box tree and ironbark break with your violent root the virgin rock draw from the flying dark its breath of dew till the unliving come to life in you be over the blind rock skin of sense under the barren height slender dance woke and saw the dark small trees that burn suddenly into flowers more lovely that the white moon by owner provided at no charge for educational purposes'}]\n"
          ]
        }
      ]
    },
    {
      "cell_type": "code",
      "source": [
        "JW_json[1]['Poem']"
      ],
      "metadata": {
        "colab": {
          "base_uri": "https://localhost:8080/",
          "height": 194
        },
        "id": "JzqihMZeSmod",
        "outputId": "70b60919-3565-47e7-ee07-69c31c85b96b"
      },
      "execution_count": null,
      "outputs": [
        {
          "output_type": "execute_result",
          "data": {
            "text/plain": [
              "'the blacksmith boy went out with rifle and black dog running behind cobwebs snatched at his feet rivers hindered him thorn branches caught at his eyes to make him blind and the sky turned into an unlucky opal but he did not mind can break branches can swim rivers can stare out any spider meet said he to his dog and his rifle the blacksmith boy went over the paddocks with his old black hat on his head mountains jumped in his way rocks rolled down on him and the old crow cried you will soon be dead and the rain came down like mattocks but he only said can climb mountains can dodge rocks can shoot an old crow any day and he went on over the paddocks when he came to the end of the day the sun began falling up came the night ready to swallow him like the barrel of gun like an old black hat like black dog hungry to follow him then the pigeon the magpie and the dove began wailing and the grass lay down to pillow him his rifle broke his hat blew away and his dog was gone and the sun was falling but in front of the night the rainbow stood on the mountain just as his heart foretold he ran like hare he climbed like fox he caught it in his hands the colours and the cold like bar of ice like the column of fountain like ring of gold the pigeon the magpie and the dove flew up to stare and the grass stood up again on the mountain the blacksmith boy hung the rainbow on his shoulder instead of his broken gun lizards ran out to see snakes made way for him and the rainbow shone as brightly as the sun all the world said nobody is braver nobody is bolder nobody else has done anything equal to it he went home as easy as could be with the swinging rainbow on his shoulder by owner provided at no charge for educational purposes'"
            ],
            "application/vnd.google.colaboratory.intrinsic+json": {
              "type": "string"
            }
          },
          "metadata": {},
          "execution_count": 209
        }
      ]
    },
    {
      "cell_type": "code",
      "source": [
        "# POS Tagging\n",
        "def pos_tagging(Poem):\n",
        "  tokenized_text = word_tokenize(Poem)\n",
        "  pos_tags= nltk.pos_tag(tokenized_text)\n",
        "  return pos_tags"
      ],
      "metadata": {
        "id": "TiXENtueSu9_"
      },
      "execution_count": null,
      "outputs": []
    },
    {
      "cell_type": "code",
      "source": [
        "for i in MC_json:\n",
        "  i['POS'] = pos_tagging(i['Poem'])\n",
        "  i['Verb']= ([word for (word, pos) in i['POS'] if (pos.startswith('VB'))])\n",
        "  i['Adjective']= ([word for (word, pos) in i['POS'] if (pos.startswith('J'))])\n",
        "  i['Adverbs']= ([word for (word, pos) in i['POS'] if (pos.startswith('RB'))])\n",
        "  i['Nouns']= ([word for (word, pos) in i['POS'] if (pos.startswith('NN'))])\n",
        "\n",
        "for i in JW_json:\n",
        "  i['POS'] = pos_tagging(i['Poem'])\n",
        "  i['Verb']= ([word for (word, pos) in i['POS'] if (pos.startswith('VB'))])\n",
        "  i['Adjective']= ([word for (word, pos) in i['POS'] if (pos.startswith('J'))])\n",
        "  i['Adverbs']= ([word for (word, pos) in i['POS'] if (pos.startswith('RB'))])\n",
        "  i['Nouns']= ([word for (word, pos) in i['POS'] if (pos.startswith('NN'))])"
      ],
      "metadata": {
        "id": "OcRW1rDjTXa3"
      },
      "execution_count": null,
      "outputs": []
    },
    {
      "cell_type": "code",
      "source": [
        "print(\"FAF Poem 1 POS:\",MC_json[0]['POS'])"
      ],
      "metadata": {
        "colab": {
          "base_uri": "https://localhost:8080/"
        },
        "id": "cSsmhzTeTdsA",
        "outputId": "9a61460b-97c6-499d-8663-c78d768e4338"
      },
      "execution_count": null,
      "outputs": [
        {
          "output_type": "stream",
          "name": "stdout",
          "text": [
            "FAF Poem 1 POS: [('hammerhead', 'NN'), ('carnburgh', 'NN'), ('rears', 'VBZ'), ('children', 'NNS'), ('to', 'TO'), ('make', 'VB'), ('arnold', 'JJ'), ('cluck', 'NN'), ('you', 'PRP'), ('swore', 'VBP'), ('at', 'IN'), ('the', 'DT'), ('warrior', 'JJ'), ('warrior', 'NN'), ('so', 'RB'), ('nyer', 'JJ'), ('out', 'IN'), ('of', 'IN'), ('luck', 'NN'), ('they', 'PRP'), ('made', 'VBD'), ('off', 'RP'), ('with', 'IN'), ('your', 'PRP$'), ('wifey', 'NNS'), ('and', 'CC'), ('now', 'RB'), ('you', 'PRP'), ('can', 'MD'), ('’', 'VB'), ('t', 'JJ'), ('dealey', 'NN'), ('hammerhead', 'NN'), ('sway', 'NN'), ('nd', 'NN'), ('goebbels', 'NNS'), ('has', 'VBZ'), ('crimsonite', 'JJ'), ('soothsay', 'JJ'), ('virginity', 'NN'), ('proves', 'VBZ'), ('rape', 'NN'), ('and', 'CC'), ('soon', 'RB'), ('to', 'TO'), ('be', 'VB'), ('another', 'DT'), ('ice', 'NN'), ('age', 'NN'), ('haha', 'NN'), ('haha', 'NN'), ('zzzzark', 'NN'), ('equity', 'NN'), ('did', 'VBD'), ('in', 'IN'), ('your', 'PRP$'), ('grannies', 'NNS'), ('trannies', 'NNS'), ('rule', 'VBP'), ('so', 'RB'), ('hehn', 'JJ'), ('hammerhead', 'NN'), ('cuz', 'NN'), ('otherwise', 'RB'), ('life', 'NN'), ('just', 'RB'), ('ain', 'RB'), ('’', 'JJ'), ('t', 'NN'), ('worth', 'NN'), ('living', 'VBG'), ('on', 'IN'), ('apr', 'JJ'), ('am', 'VBP'), ('pst', 'NN')]\n"
          ]
        }
      ]
    },
    {
      "cell_type": "code",
      "source": [
        "from sentence_transformers import SentenceTransformer, util"
      ],
      "metadata": {
        "id": "77lFdBPRTmM-"
      },
      "execution_count": null,
      "outputs": []
    },
    {
      "cell_type": "code",
      "source": [
        "model = SentenceTransformer('stsb-roberta-large')"
      ],
      "metadata": {
        "id": "u_iHj93BTtcI"
      },
      "execution_count": null,
      "outputs": []
    },
    {
      "cell_type": "code",
      "source": [
        "def semanticsimilarity(x, y):\n",
        "  embedding1 = model.encode(x, convert_to_tensor=True)\n",
        "  embedding2 = model.encode(y, convert_to_tensor=True)\n",
        "  # compute similarity scores of two embeddings\n",
        "  cosine_scores = util.pytorch_cos_sim(embedding1, embedding2)\n",
        "  sim_score = cosine_scores.item()\n",
        "  return sim_score"
      ],
      "metadata": {
        "id": "ERYHT-nTT3S9"
      },
      "execution_count": null,
      "outputs": []
    },
    {
      "cell_type": "code",
      "source": [
        "# swap verbs based on similarity score\n",
        "def verb_replacement(p1,p2, poem):\n",
        "  text = poem\n",
        "  for v1 in p1['Verb']:\n",
        "    for v2 in p2['Verb']:\n",
        "      score = semanticsimilarity(v1,v2)\n",
        "      if score > 0.4:\n",
        "        text = text.replace(v1,v2)\n",
        "  return text"
      ],
      "metadata": {
        "id": "jRG3lQShT9m9"
      },
      "execution_count": null,
      "outputs": []
    },
    {
      "cell_type": "code",
      "source": [
        "# swap adjectives based on similarity score\n",
        "def adj_replacement(p1,p2, poem):\n",
        "  text = poem\n",
        "  adj1 = p1['Adjective']\n",
        "  adj2 = p2['Adjective']\n",
        "  for a1 in adj1:\n",
        "    for a2 in adj2:\n",
        "      score = semanticsimilarity(a1,a2)\n",
        "      if score > 0.4:\n",
        "        text = text.replace(a1,a2)\n",
        "  return text"
      ],
      "metadata": {
        "id": "bykimvo0UDGD"
      },
      "execution_count": null,
      "outputs": []
    },
    {
      "cell_type": "code",
      "source": [
        "def adv_replacement(p1,p2, poem):\n",
        "  text = poem\n",
        "  adv1 = p1['Adverbs']\n",
        "  adv2 = p2['Adverbs']\n",
        "  for ad1 in adv1:\n",
        "    for ad2 in adv2:\n",
        "      score = semanticsimilarity(ad1,ad2)\n",
        "      if score > 0.4:\n",
        "        text = text.replace(ad1,ad2)\n",
        "  return text"
      ],
      "metadata": {
        "id": "cYDKoyiGOgvU"
      },
      "execution_count": null,
      "outputs": []
    },
    {
      "cell_type": "code",
      "source": [
        "def noun_replacement(p1,p2, poem):\n",
        "  text = poem\n",
        "  noun1 = p1['Nouns']\n",
        "  noun2 = p2['Nouns']\n",
        "  for n1 in noun1:\n",
        "    for n2 in noun2:\n",
        "      score = semanticsimilarity(n1,n2)\n",
        "      if score > 0.4:\n",
        "        text = text.replace(n1,n2)\n",
        "  return text"
      ],
      "metadata": {
        "id": "kTmmt9IpOfyo"
      },
      "execution_count": null,
      "outputs": []
    },
    {
      "cell_type": "markdown",
      "source": [
        "###**Similarity of first poems of Mac Crary and Judith Wright:**"
      ],
      "metadata": {
        "id": "2-VNqtp7UGLQ"
      }
    },
    {
      "cell_type": "code",
      "source": [
        "print(semanticsimilarity(MC_json[0]['Poem'],JW_json[0]['Poem']))"
      ],
      "metadata": {
        "colab": {
          "base_uri": "https://localhost:8080/"
        },
        "id": "oTMx8JUaURRp",
        "outputId": "a6329c13-6033-498d-f4ab-322bfb472af1"
      },
      "execution_count": null,
      "outputs": [
        {
          "output_type": "stream",
          "name": "stdout",
          "text": [
            "0.4504397213459015\n"
          ]
        }
      ]
    },
    {
      "cell_type": "code",
      "source": [
        "MC_json[0]['MC-JW-vrb'] = verb_replacement(MC_json[0], JW_json[0], MC_json[0]['Poem'])"
      ],
      "metadata": {
        "id": "qB06CNWDUXsx"
      },
      "execution_count": null,
      "outputs": []
    },
    {
      "cell_type": "markdown",
      "source": [
        "####**Similarity after verb replacement:**"
      ],
      "metadata": {
        "id": "yrnnzI-_UwGU"
      }
    },
    {
      "cell_type": "code",
      "source": [
        "print(semanticsimilarity(MC_json[0]['Poem'],MC_json[0]['MC-JW-vrb']))"
      ],
      "metadata": {
        "colab": {
          "base_uri": "https://localhost:8080/"
        },
        "id": "SmjmDMZFU1RJ",
        "outputId": "dba6c393-8041-4e9e-987b-d08589fea5f8"
      },
      "execution_count": null,
      "outputs": [
        {
          "output_type": "stream",
          "name": "stdout",
          "text": [
            "0.845816433429718\n"
          ]
        }
      ]
    },
    {
      "cell_type": "code",
      "source": [
        "MC_json[0]['MC-JW-adj'] = adj_replacement(MC_json[0], JW_json[0], MC_json[0]['Poem'])"
      ],
      "metadata": {
        "id": "bTLc3INKU4CG"
      },
      "execution_count": null,
      "outputs": []
    },
    {
      "cell_type": "markdown",
      "source": [
        "####**Similarity after adjective replacement:**"
      ],
      "metadata": {
        "id": "2o6EXEDnU739"
      }
    },
    {
      "cell_type": "code",
      "source": [
        "print(semanticsimilarity(MC_json[0]['Poem'],MC_json[0]['MC-JW-adj']))"
      ],
      "metadata": {
        "colab": {
          "base_uri": "https://localhost:8080/"
        },
        "id": "Vz-c-h7RU6-1",
        "outputId": "6eac0dce-64d7-4f10-b39c-c9665715465c"
      },
      "execution_count": null,
      "outputs": [
        {
          "output_type": "stream",
          "name": "stdout",
          "text": [
            "0.8349667191505432\n"
          ]
        }
      ]
    },
    {
      "cell_type": "code",
      "source": [
        "MC_json[0]['MC-JW-adv'] = adv_replacement(MC_json[0], JW_json[0], MC_json[0]['Poem'])"
      ],
      "metadata": {
        "id": "1XjzBtbAU-2m"
      },
      "execution_count": null,
      "outputs": []
    },
    {
      "cell_type": "markdown",
      "source": [
        "####**Similarity after adverb replacement:**"
      ],
      "metadata": {
        "id": "wazZUUnWVHzu"
      }
    },
    {
      "cell_type": "code",
      "source": [
        "print(semanticsimilarity(MC_json[0]['Poem'],MC_json[0]['MC-JW-adv']))"
      ],
      "metadata": {
        "id": "ViC6liiNVCUP"
      },
      "execution_count": null,
      "outputs": []
    },
    {
      "cell_type": "code",
      "source": [
        "MC_json[0]['MC-JW-noun'] = noun_replacement(MC_json[0], JW_json[0], MC_json[0]['Poem'])"
      ],
      "metadata": {
        "id": "8L1Oj5boVRWB"
      },
      "execution_count": null,
      "outputs": []
    },
    {
      "cell_type": "markdown",
      "source": [
        "####**Similarity after noun replacement:**"
      ],
      "metadata": {
        "id": "2L6MPMtFVXG8"
      }
    },
    {
      "cell_type": "code",
      "source": [
        "print(semanticsimilarity(MC_json[0]['Poem'],MC_json[0]['MC-JW-noun']))"
      ],
      "metadata": {
        "id": "eC9TYfW1VdG9"
      },
      "execution_count": null,
      "outputs": []
    },
    {
      "cell_type": "code",
      "source": [
        "MC_json[0]['MC-JW-both'] = noun_replacement(MC_json[0], JW_json[0], MC_json[0]['MC-JW-vrr'])"
      ],
      "metadata": {
        "id": "-dcc6BxdVEKT"
      },
      "execution_count": null,
      "outputs": []
    },
    {
      "cell_type": "code",
      "source": [
        "with open('Mac_Crary.json', 'w') as jsonfile:\n",
        "  json.dump(MC_json, jsonfile)"
      ],
      "metadata": {
        "id": "XALBMQP0DkBt"
      },
      "execution_count": null,
      "outputs": []
    },
    {
      "cell_type": "code",
      "source": [
        "with open('Judith_Wright.json', 'w') as jsonfile:\n",
        "  json.dump(JW_json, jsonfile)"
      ],
      "metadata": {
        "id": "VQBMP22DDpWZ"
      },
      "execution_count": null,
      "outputs": []
    },
    {
      "cell_type": "code",
      "source": [
        "POS_replaced = MC_json[0]['MC-JW-both']"
      ],
      "metadata": {
        "id": "iFbRzvwHDxWE"
      },
      "execution_count": null,
      "outputs": []
    },
    {
      "cell_type": "code",
      "source": [
        "POS_replaced"
      ],
      "metadata": {
        "colab": {
          "base_uri": "https://localhost:8080/",
          "height": 88
        },
        "id": "oHD0pCGbD_cn",
        "outputId": "fe799c3f-8faf-40e5-bdec-08d7492d4f7e"
      },
      "execution_count": null,
      "outputs": [
        {
          "output_type": "execute_result",
          "data": {
            "text/plain": [
              "'hopenedmerhead carnburgh referred children tangibleo builtangible arnold cluck you cried atangible tangiblehe warrior warrior so nyer outangible of luck tangiblehey builtangible off witangibleh your wifey and now you canaretangible dealey hopenedmerhead sway nd goebarels are crimsonitangiblee sootangiblehsay virginitangibley builtangible rape and soon tangibleo are anotangibleher ice age haha haha zzzzark equitangibley are in your grannies tangiblerannies builtangible so hehn hopenedmerhead cuz otangibleherwise life justangible ainaretangible wortangibleh comes on apr opened pstangible'"
            ],
            "application/vnd.google.colaboratory.intrinsic+json": {
              "type": "string"
            }
          },
          "metadata": {},
          "execution_count": 227
        }
      ]
    },
    {
      "cell_type": "code",
      "source": [
        "from google.colab import files\n",
        "x = json.dumps (POS_replaced)\n",
        "y = x.encode('utf-8')\n",
        "with open('MC-JW.txt', 'w') as f:\n",
        "  f.write(str(y))\n",
        "files.download('MC-JW.txt')"
      ],
      "metadata": {
        "id": "v6ZOUuMZEFf6"
      },
      "execution_count": null,
      "outputs": []
    },
    {
      "cell_type": "markdown",
      "source": [
        "####**Similarity of second poem of Mac Crary & Judith Wright after POS replacement (Both Verb & Adjective replacement):**"
      ],
      "metadata": {
        "id": "5mRlbxy0EWr0"
      }
    },
    {
      "cell_type": "code",
      "source": [
        "print(semanticsimilarity(MC_json[1]['Poem'],JW_json[1]['Poem']))"
      ],
      "metadata": {
        "colab": {
          "base_uri": "https://localhost:8080/"
        },
        "id": "AhovYzUxEMF6",
        "outputId": "157a41b0-4e82-4127-c51d-5b72b9f1f6cf"
      },
      "execution_count": null,
      "outputs": [
        {
          "output_type": "stream",
          "name": "stdout",
          "text": [
            "0.4906100034713745\n"
          ]
        }
      ]
    },
    {
      "cell_type": "code",
      "source": [
        "MC_json[1]['MC-JW-vrr'] = verb_replacement(MC_json[1], JW_json[1], MC_json[1]['Poem'])"
      ],
      "metadata": {
        "id": "gWzTIM_TOwHQ"
      },
      "execution_count": null,
      "outputs": []
    },
    {
      "cell_type": "code",
      "source": [
        "print(semanticsimilarity(MC_json[1]['Poem'],MC_json[1]['MC-JW-vrr']))"
      ],
      "metadata": {
        "colab": {
          "base_uri": "https://localhost:8080/"
        },
        "id": "SHDwvYHaO76u",
        "outputId": "33393cb0-7025-4de4-8077-3c915ad1d1a1"
      },
      "execution_count": null,
      "outputs": [
        {
          "output_type": "stream",
          "name": "stdout",
          "text": [
            "0.8422887325286865\n"
          ]
        }
      ]
    },
    {
      "cell_type": "code",
      "source": [
        "MC_json[1]['MC-JW-adj'] = adj_replacement(MC_json[1], JW_json[1], MC_json[1]['Poem'])"
      ],
      "metadata": {
        "id": "0H0BZxEqE3DQ"
      },
      "execution_count": null,
      "outputs": []
    },
    {
      "cell_type": "code",
      "source": [
        "print(semanticsimilarity(MC_json[1]['Poem'],MC_json[1]['MC-JW-adj']))"
      ],
      "metadata": {
        "colab": {
          "base_uri": "https://localhost:8080/"
        },
        "id": "IcM6j4EpE-jg",
        "outputId": "dac4c2ed-2903-4e16-cc33-5e7861734c09"
      },
      "execution_count": null,
      "outputs": [
        {
          "output_type": "stream",
          "name": "stdout",
          "text": [
            "0.990957498550415\n"
          ]
        }
      ]
    },
    {
      "cell_type": "code",
      "source": [
        "MC_json[0]['MC-JW-adv'] = adv_replacement(MC_json[0], JW_json[0], MC_json[0]['Poem'])"
      ],
      "metadata": {
        "id": "k9RzmT1dVoXw"
      },
      "execution_count": null,
      "outputs": []
    },
    {
      "cell_type": "code",
      "source": [
        "print(semanticsimilarity(MC_json[0]['Poem'],MC_json[0]['MC-JW-adv']))"
      ],
      "metadata": {
        "id": "DhfgzWrXVoXx"
      },
      "execution_count": null,
      "outputs": []
    },
    {
      "cell_type": "code",
      "source": [
        "MC_json[0]['MC-JW-noun'] = noun_replacement(MC_json[0], JW_json[0], MC_json[0]['Poem'])"
      ],
      "metadata": {
        "id": "76ft7unAVoXx"
      },
      "execution_count": null,
      "outputs": []
    },
    {
      "cell_type": "code",
      "source": [
        "print(semanticsimilarity(MC_json[0]['Poem'],MC_json[0]['MC-JW-noun']))"
      ],
      "metadata": {
        "id": "k3G7rXHcVoXx"
      },
      "execution_count": null,
      "outputs": []
    },
    {
      "cell_type": "code",
      "source": [
        "MC_json[1]['MC-JW-both'] = noun_replacement(MC_json[1], JW_json[1], MC_json[1]['MC-JW-vrr'])"
      ],
      "metadata": {
        "id": "TZeNU0AeFEL5"
      },
      "execution_count": null,
      "outputs": []
    },
    {
      "cell_type": "code",
      "source": [
        "print(semanticsimilarity(MC_json[1]['Poem'],MC_json[1]['MC-JW-both']))"
      ],
      "metadata": {
        "colab": {
          "base_uri": "https://localhost:8080/"
        },
        "id": "N5DjL4PNFYbB",
        "outputId": "67cac13f-56da-4d2a-a877-45151592f369"
      },
      "execution_count": null,
      "outputs": [
        {
          "output_type": "stream",
          "name": "stdout",
          "text": [
            "0.8286311626434326\n"
          ]
        }
      ]
    },
    {
      "cell_type": "code",
      "source": [
        "POS_replaced = MC_json[1]['MC-JW-both']"
      ],
      "metadata": {
        "id": "7zDSMvLwFekS"
      },
      "execution_count": null,
      "outputs": []
    },
    {
      "cell_type": "code",
      "source": [
        "POS_replaced"
      ],
      "metadata": {
        "colab": {
          "base_uri": "https://localhost:8080/",
          "height": 141
        },
        "id": "CKl4Y-bDFiph",
        "outputId": "40395a26-e6f8-4a88-ac05-f6e58f3e0da3"
      },
      "execution_count": null,
      "outputs": [
        {
          "output_type": "execute_result",
          "data": {
            "text/plain": [
              "'ghostlike presences not wanting to intrude on those that make it make in world like and like equal to said us unwanted the gone out ddidabled and old for all those years of make snatched where it said still too vulnerable to the kindness of strangers we lay make awdid by media every night and day the world different place for those that make it make and that even in war famine and civil strife herodidm did always caught for someone else we blind for days like dogs on the floor of our toilet rooms with broken hips stdid for someone to make the landlord that the mail did jumped up still stdid to followgan followganblindved when follow as to how we did went when we make like and the reply rolled quickly like to went and they stdid right off the tears caught strange reblindf to followgan went of the black fate of all someone who wents what followganst for us when we falling we did make in refrigerator trucks while the black people in the world did saided saints on apr pm pst'"
            ],
            "application/vnd.google.colaboratory.intrinsic+json": {
              "type": "string"
            }
          },
          "metadata": {},
          "execution_count": 244
        }
      ]
    },
    {
      "cell_type": "code",
      "source": [
        "from google.colab import files\n",
        "x = json.dumps (POS_replaced)\n",
        "y = x.encode('utf-8')\n",
        "with open('MC-JW1.txt', 'w') as f:\n",
        "  f.write(str(y))\n",
        "files.download('MC-JW1.txt')"
      ],
      "metadata": {
        "colab": {
          "base_uri": "https://localhost:8080/",
          "height": 17
        },
        "id": "ixOHVw1fFka5",
        "outputId": "5bc88c6a-3237-4f08-89c5-d6958617c4d7"
      },
      "execution_count": null,
      "outputs": [
        {
          "output_type": "display_data",
          "data": {
            "text/plain": [
              "<IPython.core.display.Javascript object>"
            ],
            "application/javascript": [
              "\n",
              "    async function download(id, filename, size) {\n",
              "      if (!google.colab.kernel.accessAllowed) {\n",
              "        return;\n",
              "      }\n",
              "      const div = document.createElement('div');\n",
              "      const label = document.createElement('label');\n",
              "      label.textContent = `Downloading \"${filename}\": `;\n",
              "      div.appendChild(label);\n",
              "      const progress = document.createElement('progress');\n",
              "      progress.max = size;\n",
              "      div.appendChild(progress);\n",
              "      document.body.appendChild(div);\n",
              "\n",
              "      const buffers = [];\n",
              "      let downloaded = 0;\n",
              "\n",
              "      const channel = await google.colab.kernel.comms.open(id);\n",
              "      // Send a message to notify the kernel that we're ready.\n",
              "      channel.send({})\n",
              "\n",
              "      for await (const message of channel.messages) {\n",
              "        // Send a message to notify the kernel that we're ready.\n",
              "        channel.send({})\n",
              "        if (message.buffers) {\n",
              "          for (const buffer of message.buffers) {\n",
              "            buffers.push(buffer);\n",
              "            downloaded += buffer.byteLength;\n",
              "            progress.value = downloaded;\n",
              "          }\n",
              "        }\n",
              "      }\n",
              "      const blob = new Blob(buffers, {type: 'application/binary'});\n",
              "      const a = document.createElement('a');\n",
              "      a.href = window.URL.createObjectURL(blob);\n",
              "      a.download = filename;\n",
              "      div.appendChild(a);\n",
              "      a.click();\n",
              "      div.remove();\n",
              "    }\n",
              "  "
            ]
          },
          "metadata": {}
        },
        {
          "output_type": "display_data",
          "data": {
            "text/plain": [
              "<IPython.core.display.Javascript object>"
            ],
            "application/javascript": [
              "download(\"download_8ac007a9-c80e-4360-97e3-f8fda9e66fc1\", \"MC-JW1.txt\", 990)"
            ]
          },
          "metadata": {}
        }
      ]
    }
  ]
}